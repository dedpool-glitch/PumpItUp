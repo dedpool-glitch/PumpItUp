{
 "cells": [
  {
   "cell_type": "code",
   "execution_count": 1,
   "id": "difficult-incident",
   "metadata": {
    "_cell_guid": "b1076dfc-b9ad-4769-8c92-a6c4dae69d19",
    "_uuid": "8f2839f25d086af736a60e9eeb907d3b93b6e0e5",
    "execution": {
     "iopub.execute_input": "2021-06-22T02:57:46.639217Z",
     "iopub.status.busy": "2021-06-22T02:57:46.638482Z",
     "iopub.status.idle": "2021-06-22T02:57:47.524883Z",
     "shell.execute_reply": "2021-06-22T02:57:47.525679Z",
     "shell.execute_reply.started": "2021-06-22T02:43:49.260125Z"
    },
    "papermill": {
     "duration": 0.976616,
     "end_time": "2021-06-22T02:57:47.526200",
     "exception": false,
     "start_time": "2021-06-22T02:57:46.549584",
     "status": "completed"
    },
    "tags": []
   },
   "outputs": [
    {
     "name": "stdout",
     "output_type": "stream",
     "text": [
      "/kaggle/input/pumpit-up/Test set.csv\n",
      "/kaggle/input/pumpit-up/Train set.csv\n",
      "/kaggle/input/final-test-vals/values (2).csv\n"
     ]
    }
   ],
   "source": [
    "# This Python 3 environment comes with many helpful analytics libraries installed\n",
    "# It is defined by the kaggle/python Docker image: https://github.com/kaggle/docker-python\n",
    "# For example, here's several helpful packages to load\n",
    "# linear algebra\n",
    "import matplotlib.pyplot as plt\n",
    "import seaborn as sns\n",
    "import plotly.graph_objects as go\n",
    "import pandas as pd # data processing, CSV file I/O (e.g. pd.read_csv)\n",
    "from scipy.stats import skew\n",
    "# Input data files are available in the read-only \"../input/\" directory\n",
    "# For example, running this (by clicking run or pressing Shift+Enter) will list all files under the input directory\n",
    "\n",
    "import os\n",
    "for dirname, _, filenames in os.walk('/kaggle/input'):\n",
    "    for filename in filenames:\n",
    "        print(os.path.join(dirname, filename))\n",
    "\n",
    "# You can write up to 20GB to the current directory (/kaggle/working/) that gets preserved as output when you create a version using \"Save & Run All\" \n",
    "# You can also write temporary files to /kaggle/temp/, but they won't be saved outside of the current session"
   ]
  },
  {
   "cell_type": "markdown",
   "id": "planned-exchange",
   "metadata": {
    "papermill": {
     "duration": 0.075734,
     "end_time": "2021-06-22T02:57:47.678411",
     "exception": false,
     "start_time": "2021-06-22T02:57:47.602677",
     "status": "completed"
    },
    "tags": []
   },
   "source": [
    "This dataset is a part of the competition named \"Pump It Up\" hosted by DrivenData. In this we are given over 59400 rows of data, each row corresponding to a particular water pump in Tanzania. The aim of the competition is to predict the operationality of each water pump using the data given to us."
   ]
  },
  {
   "cell_type": "code",
   "execution_count": 2,
   "id": "frozen-wildlife",
   "metadata": {
    "execution": {
     "iopub.execute_input": "2021-06-22T02:57:47.836851Z",
     "iopub.status.busy": "2021-06-22T02:57:47.836152Z",
     "iopub.status.idle": "2021-06-22T02:57:48.097690Z",
     "shell.execute_reply": "2021-06-22T02:57:48.097034Z",
     "shell.execute_reply.started": "2021-06-22T02:43:49.453951Z"
    },
    "papermill": {
     "duration": 0.343511,
     "end_time": "2021-06-22T02:57:48.097875",
     "exception": false,
     "start_time": "2021-06-22T02:57:47.754364",
     "status": "completed"
    },
    "tags": []
   },
   "outputs": [],
   "source": [
    "final_test_val=pd.read_csv('../input/final-test-vals/values (2).csv',index_col=0)"
   ]
  },
  {
   "cell_type": "code",
   "execution_count": 3,
   "id": "trained-essex",
   "metadata": {
    "execution": {
     "iopub.execute_input": "2021-06-22T02:57:48.255365Z",
     "iopub.status.busy": "2021-06-22T02:57:48.254638Z",
     "iopub.status.idle": "2021-06-22T02:57:48.257700Z",
     "shell.execute_reply": "2021-06-22T02:57:48.257193Z",
     "shell.execute_reply.started": "2021-06-22T02:43:49.658741Z"
    },
    "papermill": {
     "duration": 0.083632,
     "end_time": "2021-06-22T02:57:48.257872",
     "exception": false,
     "start_time": "2021-06-22T02:57:48.174240",
     "status": "completed"
    },
    "tags": []
   },
   "outputs": [],
   "source": [
    "import numpy as np\n",
    "from numpy import random\n",
    "random.seed(12345)"
   ]
  },
  {
   "cell_type": "markdown",
   "id": "neither-copyright",
   "metadata": {
    "papermill": {
     "duration": 0.075304,
     "end_time": "2021-06-22T02:57:48.408391",
     "exception": false,
     "start_time": "2021-06-22T02:57:48.333087",
     "status": "completed"
    },
    "tags": []
   },
   "source": [
    "VARIABLE DESCRIPTIONS:\n",
    "\n",
    "amount_tsh - Total static head (amount water available to waterpoint)\n",
    "\n",
    "date_recorded - The date the row was entered\n",
    "\n",
    "funder - Who funded the well\n",
    "\n",
    "gps_height - Altitude of the well\n",
    "\n",
    "installer - Organization that installed the well\n",
    "\n",
    "longitude - GPS coordinate\n",
    "\n",
    "latitude - GPS coordinate\n",
    "\n",
    "wpt_name - Name of the waterpoint if there is one\n",
    "\n",
    "num_private -\n",
    "\n",
    "basin - Geographic water basin\n",
    "\n",
    "subvillage - Geographic location\n",
    "\n",
    "region - Geographic location\n",
    "\n",
    "region_code - Geographic location (coded)\n",
    "\n",
    "district_code - Geographic location (coded)\n",
    "\n",
    "lga - Geographic location\n",
    "\n",
    "ward - Geographic location\n",
    "\n",
    "population - Population around the well\n",
    "\n",
    "public_meeting - True/False\n",
    "\n",
    "recorded_by - Group entering this row of data\n",
    "\n",
    "scheme_management - Who operates the waterpoint\n",
    "\n",
    "scheme_name - Who operates the waterpoint\n",
    "\n",
    "permit - If the waterpoint is permitted\n",
    "\n",
    "construction_year - Year the waterpoint was constructed\n",
    "\n",
    "extraction_type - The kind of extraction the waterpoint uses\n",
    "\n",
    "extraction_type_group - The kind of extraction the waterpoint uses\n",
    "\n",
    "extraction_type_class - The kind of extraction the waterpoint uses\n",
    "\n",
    "management - How the waterpoint is managed\n",
    "\n",
    "management_group - How the waterpoint is managed\n",
    "\n",
    "payment - What the water costs\n",
    "\n",
    "payment_type - What the water costs\n",
    "\n",
    "water_quality - The quality of the water\n",
    "\n",
    "quality_group - The quality of the water\n",
    "\n",
    "quantity - The quantity of water\n",
    "\n",
    "quantity_group - The quantity of water\n",
    "\n",
    "source - The source of the water\n",
    "\n",
    "source_type - The source of the water\n",
    "\n",
    "source_class - The source of the water\n",
    "\n",
    "waterpoint_type - The kind of waterpoint\n",
    "\n",
    "waterpoint_type_group - The kind of waterpoint"
   ]
  },
  {
   "cell_type": "code",
   "execution_count": 4,
   "id": "congressional-charlotte",
   "metadata": {
    "execution": {
     "iopub.execute_input": "2021-06-22T02:57:48.564185Z",
     "iopub.status.busy": "2021-06-22T02:57:48.563436Z",
     "iopub.status.idle": "2021-06-22T02:57:49.503895Z",
     "shell.execute_reply": "2021-06-22T02:57:49.503235Z",
     "shell.execute_reply.started": "2021-06-22T02:43:49.664307Z"
    },
    "papermill": {
     "duration": 1.020661,
     "end_time": "2021-06-22T02:57:49.504102",
     "exception": false,
     "start_time": "2021-06-22T02:57:48.483441",
     "status": "completed"
    },
    "tags": []
   },
   "outputs": [],
   "source": [
    "tvalues_df=pd.read_csv('../input/pumpit-up/Train set.csv',index_col=0)\n",
    "tlabels_df=pd.read_csv('../input/pumpit-up/Test set.csv',index_col=0)"
   ]
  },
  {
   "cell_type": "code",
   "execution_count": 5,
   "id": "verified-denmark",
   "metadata": {
    "execution": {
     "iopub.execute_input": "2021-06-22T02:57:49.663667Z",
     "iopub.status.busy": "2021-06-22T02:57:49.663035Z",
     "iopub.status.idle": "2021-06-22T02:57:49.696193Z",
     "shell.execute_reply": "2021-06-22T02:57:49.696679Z",
     "shell.execute_reply.started": "2021-06-22T02:43:50.346455Z"
    },
    "papermill": {
     "duration": 0.118927,
     "end_time": "2021-06-22T02:57:49.696844",
     "exception": false,
     "start_time": "2021-06-22T02:57:49.577917",
     "status": "completed"
    },
    "tags": []
   },
   "outputs": [
    {
     "data": {
      "text/html": [
       "<div>\n",
       "<style scoped>\n",
       "    .dataframe tbody tr th:only-of-type {\n",
       "        vertical-align: middle;\n",
       "    }\n",
       "\n",
       "    .dataframe tbody tr th {\n",
       "        vertical-align: top;\n",
       "    }\n",
       "\n",
       "    .dataframe thead th {\n",
       "        text-align: right;\n",
       "    }\n",
       "</style>\n",
       "<table border=\"1\" class=\"dataframe\">\n",
       "  <thead>\n",
       "    <tr style=\"text-align: right;\">\n",
       "      <th></th>\n",
       "      <th>amount_tsh</th>\n",
       "      <th>date_recorded</th>\n",
       "      <th>funder</th>\n",
       "      <th>gps_height</th>\n",
       "      <th>installer</th>\n",
       "      <th>longitude</th>\n",
       "      <th>latitude</th>\n",
       "      <th>wpt_name</th>\n",
       "      <th>num_private</th>\n",
       "      <th>basin</th>\n",
       "      <th>...</th>\n",
       "      <th>payment_type</th>\n",
       "      <th>water_quality</th>\n",
       "      <th>quality_group</th>\n",
       "      <th>quantity</th>\n",
       "      <th>quantity_group</th>\n",
       "      <th>source</th>\n",
       "      <th>source_type</th>\n",
       "      <th>source_class</th>\n",
       "      <th>waterpoint_type</th>\n",
       "      <th>waterpoint_type_group</th>\n",
       "    </tr>\n",
       "    <tr>\n",
       "      <th>id</th>\n",
       "      <th></th>\n",
       "      <th></th>\n",
       "      <th></th>\n",
       "      <th></th>\n",
       "      <th></th>\n",
       "      <th></th>\n",
       "      <th></th>\n",
       "      <th></th>\n",
       "      <th></th>\n",
       "      <th></th>\n",
       "      <th></th>\n",
       "      <th></th>\n",
       "      <th></th>\n",
       "      <th></th>\n",
       "      <th></th>\n",
       "      <th></th>\n",
       "      <th></th>\n",
       "      <th></th>\n",
       "      <th></th>\n",
       "      <th></th>\n",
       "      <th></th>\n",
       "    </tr>\n",
       "  </thead>\n",
       "  <tbody>\n",
       "    <tr>\n",
       "      <th>69572</th>\n",
       "      <td>6000.0</td>\n",
       "      <td>2011-03-14</td>\n",
       "      <td>Roman</td>\n",
       "      <td>1390</td>\n",
       "      <td>Roman</td>\n",
       "      <td>34.938093</td>\n",
       "      <td>-9.856322</td>\n",
       "      <td>none</td>\n",
       "      <td>0</td>\n",
       "      <td>Lake Nyasa</td>\n",
       "      <td>...</td>\n",
       "      <td>annually</td>\n",
       "      <td>soft</td>\n",
       "      <td>good</td>\n",
       "      <td>enough</td>\n",
       "      <td>enough</td>\n",
       "      <td>spring</td>\n",
       "      <td>spring</td>\n",
       "      <td>groundwater</td>\n",
       "      <td>communal standpipe</td>\n",
       "      <td>communal standpipe</td>\n",
       "    </tr>\n",
       "    <tr>\n",
       "      <th>8776</th>\n",
       "      <td>0.0</td>\n",
       "      <td>2013-03-06</td>\n",
       "      <td>Grumeti</td>\n",
       "      <td>1399</td>\n",
       "      <td>GRUMETI</td>\n",
       "      <td>34.698766</td>\n",
       "      <td>-2.147466</td>\n",
       "      <td>Zahanati</td>\n",
       "      <td>0</td>\n",
       "      <td>Lake Victoria</td>\n",
       "      <td>...</td>\n",
       "      <td>never pay</td>\n",
       "      <td>soft</td>\n",
       "      <td>good</td>\n",
       "      <td>insufficient</td>\n",
       "      <td>insufficient</td>\n",
       "      <td>rainwater harvesting</td>\n",
       "      <td>rainwater harvesting</td>\n",
       "      <td>surface</td>\n",
       "      <td>communal standpipe</td>\n",
       "      <td>communal standpipe</td>\n",
       "    </tr>\n",
       "    <tr>\n",
       "      <th>34310</th>\n",
       "      <td>25.0</td>\n",
       "      <td>2013-02-25</td>\n",
       "      <td>Lottery Club</td>\n",
       "      <td>686</td>\n",
       "      <td>World vision</td>\n",
       "      <td>37.460664</td>\n",
       "      <td>-3.821329</td>\n",
       "      <td>Kwa Mahundi</td>\n",
       "      <td>0</td>\n",
       "      <td>Pangani</td>\n",
       "      <td>...</td>\n",
       "      <td>per bucket</td>\n",
       "      <td>soft</td>\n",
       "      <td>good</td>\n",
       "      <td>enough</td>\n",
       "      <td>enough</td>\n",
       "      <td>dam</td>\n",
       "      <td>dam</td>\n",
       "      <td>surface</td>\n",
       "      <td>communal standpipe multiple</td>\n",
       "      <td>communal standpipe</td>\n",
       "    </tr>\n",
       "    <tr>\n",
       "      <th>67743</th>\n",
       "      <td>0.0</td>\n",
       "      <td>2013-01-28</td>\n",
       "      <td>Unicef</td>\n",
       "      <td>263</td>\n",
       "      <td>UNICEF</td>\n",
       "      <td>38.486161</td>\n",
       "      <td>-11.155298</td>\n",
       "      <td>Zahanati Ya Nanyumbu</td>\n",
       "      <td>0</td>\n",
       "      <td>Ruvuma / Southern Coast</td>\n",
       "      <td>...</td>\n",
       "      <td>never pay</td>\n",
       "      <td>soft</td>\n",
       "      <td>good</td>\n",
       "      <td>dry</td>\n",
       "      <td>dry</td>\n",
       "      <td>machine dbh</td>\n",
       "      <td>borehole</td>\n",
       "      <td>groundwater</td>\n",
       "      <td>communal standpipe multiple</td>\n",
       "      <td>communal standpipe</td>\n",
       "    </tr>\n",
       "    <tr>\n",
       "      <th>19728</th>\n",
       "      <td>0.0</td>\n",
       "      <td>2011-07-13</td>\n",
       "      <td>Action In A</td>\n",
       "      <td>0</td>\n",
       "      <td>Artisan</td>\n",
       "      <td>31.130847</td>\n",
       "      <td>-1.825359</td>\n",
       "      <td>Shuleni</td>\n",
       "      <td>0</td>\n",
       "      <td>Lake Victoria</td>\n",
       "      <td>...</td>\n",
       "      <td>never pay</td>\n",
       "      <td>soft</td>\n",
       "      <td>good</td>\n",
       "      <td>seasonal</td>\n",
       "      <td>seasonal</td>\n",
       "      <td>rainwater harvesting</td>\n",
       "      <td>rainwater harvesting</td>\n",
       "      <td>surface</td>\n",
       "      <td>communal standpipe</td>\n",
       "      <td>communal standpipe</td>\n",
       "    </tr>\n",
       "  </tbody>\n",
       "</table>\n",
       "<p>5 rows × 39 columns</p>\n",
       "</div>"
      ],
      "text/plain": [
       "       amount_tsh date_recorded        funder  gps_height     installer  \\\n",
       "id                                                                        \n",
       "69572      6000.0    2011-03-14         Roman        1390         Roman   \n",
       "8776          0.0    2013-03-06       Grumeti        1399       GRUMETI   \n",
       "34310        25.0    2013-02-25  Lottery Club         686  World vision   \n",
       "67743         0.0    2013-01-28        Unicef         263        UNICEF   \n",
       "19728         0.0    2011-07-13   Action In A           0       Artisan   \n",
       "\n",
       "       longitude   latitude              wpt_name  num_private  \\\n",
       "id                                                               \n",
       "69572  34.938093  -9.856322                  none            0   \n",
       "8776   34.698766  -2.147466              Zahanati            0   \n",
       "34310  37.460664  -3.821329           Kwa Mahundi            0   \n",
       "67743  38.486161 -11.155298  Zahanati Ya Nanyumbu            0   \n",
       "19728  31.130847  -1.825359               Shuleni            0   \n",
       "\n",
       "                         basin  ... payment_type water_quality  quality_group  \\\n",
       "id                              ...                                             \n",
       "69572               Lake Nyasa  ...     annually          soft           good   \n",
       "8776             Lake Victoria  ...    never pay          soft           good   \n",
       "34310                  Pangani  ...   per bucket          soft           good   \n",
       "67743  Ruvuma / Southern Coast  ...    never pay          soft           good   \n",
       "19728            Lake Victoria  ...    never pay          soft           good   \n",
       "\n",
       "           quantity quantity_group                source  \\\n",
       "id                                                         \n",
       "69572        enough         enough                spring   \n",
       "8776   insufficient   insufficient  rainwater harvesting   \n",
       "34310        enough         enough                   dam   \n",
       "67743           dry            dry           machine dbh   \n",
       "19728      seasonal       seasonal  rainwater harvesting   \n",
       "\n",
       "                source_type source_class              waterpoint_type  \\\n",
       "id                                                                      \n",
       "69572                spring  groundwater           communal standpipe   \n",
       "8776   rainwater harvesting      surface           communal standpipe   \n",
       "34310                   dam      surface  communal standpipe multiple   \n",
       "67743              borehole  groundwater  communal standpipe multiple   \n",
       "19728  rainwater harvesting      surface           communal standpipe   \n",
       "\n",
       "      waterpoint_type_group  \n",
       "id                           \n",
       "69572    communal standpipe  \n",
       "8776     communal standpipe  \n",
       "34310    communal standpipe  \n",
       "67743    communal standpipe  \n",
       "19728    communal standpipe  \n",
       "\n",
       "[5 rows x 39 columns]"
      ]
     },
     "execution_count": 5,
     "metadata": {},
     "output_type": "execute_result"
    }
   ],
   "source": [
    "tvalues_df.head()"
   ]
  },
  {
   "cell_type": "code",
   "execution_count": 6,
   "id": "original-contractor",
   "metadata": {
    "execution": {
     "iopub.execute_input": "2021-06-22T02:57:49.855365Z",
     "iopub.status.busy": "2021-06-22T02:57:49.854713Z",
     "iopub.status.idle": "2021-06-22T02:57:49.862025Z",
     "shell.execute_reply": "2021-06-22T02:57:49.860908Z",
     "shell.execute_reply.started": "2021-06-22T02:43:50.388905Z"
    },
    "papermill": {
     "duration": 0.091111,
     "end_time": "2021-06-22T02:57:49.862206",
     "exception": false,
     "start_time": "2021-06-22T02:57:49.771095",
     "status": "completed"
    },
    "tags": []
   },
   "outputs": [
    {
     "data": {
      "text/html": [
       "<div>\n",
       "<style scoped>\n",
       "    .dataframe tbody tr th:only-of-type {\n",
       "        vertical-align: middle;\n",
       "    }\n",
       "\n",
       "    .dataframe tbody tr th {\n",
       "        vertical-align: top;\n",
       "    }\n",
       "\n",
       "    .dataframe thead th {\n",
       "        text-align: right;\n",
       "    }\n",
       "</style>\n",
       "<table border=\"1\" class=\"dataframe\">\n",
       "  <thead>\n",
       "    <tr style=\"text-align: right;\">\n",
       "      <th></th>\n",
       "      <th>status_group</th>\n",
       "    </tr>\n",
       "    <tr>\n",
       "      <th>id</th>\n",
       "      <th></th>\n",
       "    </tr>\n",
       "  </thead>\n",
       "  <tbody>\n",
       "    <tr>\n",
       "      <th>69572</th>\n",
       "      <td>functional</td>\n",
       "    </tr>\n",
       "    <tr>\n",
       "      <th>8776</th>\n",
       "      <td>functional</td>\n",
       "    </tr>\n",
       "    <tr>\n",
       "      <th>34310</th>\n",
       "      <td>functional</td>\n",
       "    </tr>\n",
       "    <tr>\n",
       "      <th>67743</th>\n",
       "      <td>non functional</td>\n",
       "    </tr>\n",
       "    <tr>\n",
       "      <th>19728</th>\n",
       "      <td>functional</td>\n",
       "    </tr>\n",
       "  </tbody>\n",
       "</table>\n",
       "</div>"
      ],
      "text/plain": [
       "         status_group\n",
       "id                   \n",
       "69572      functional\n",
       "8776       functional\n",
       "34310      functional\n",
       "67743  non functional\n",
       "19728      functional"
      ]
     },
     "execution_count": 6,
     "metadata": {},
     "output_type": "execute_result"
    }
   ],
   "source": [
    "tlabels_df.head()"
   ]
  },
  {
   "cell_type": "markdown",
   "id": "complete-practitioner",
   "metadata": {
    "papermill": {
     "duration": 0.075804,
     "end_time": "2021-06-22T02:57:50.013872",
     "exception": false,
     "start_time": "2021-06-22T02:57:49.938068",
     "status": "completed"
    },
    "tags": []
   },
   "source": [
    "59400 rows and 40 columns in the train values dataset"
   ]
  },
  {
   "cell_type": "markdown",
   "id": "attended-wealth",
   "metadata": {
    "papermill": {
     "duration": 0.075635,
     "end_time": "2021-06-22T02:57:50.167156",
     "exception": false,
     "start_time": "2021-06-22T02:57:50.091521",
     "status": "completed"
    },
    "tags": []
   },
   "source": [
    "59400 rows and 2 columns in train labels dataset"
   ]
  },
  {
   "cell_type": "code",
   "execution_count": 7,
   "id": "stainless-romance",
   "metadata": {
    "execution": {
     "iopub.execute_input": "2021-06-22T02:57:50.477137Z",
     "iopub.status.busy": "2021-06-22T02:57:50.324283Z",
     "iopub.status.idle": "2021-06-22T02:57:50.505370Z",
     "shell.execute_reply": "2021-06-22T02:57:50.506086Z",
     "shell.execute_reply.started": "2021-06-22T02:43:50.399303Z"
    },
    "papermill": {
     "duration": 0.263534,
     "end_time": "2021-06-22T02:57:50.506316",
     "exception": false,
     "start_time": "2021-06-22T02:57:50.242782",
     "status": "completed"
    },
    "tags": []
   },
   "outputs": [
    {
     "name": "stdout",
     "output_type": "stream",
     "text": [
      "<class 'pandas.core.frame.DataFrame'>\n",
      "Int64Index: 59400 entries, 69572 to 26348\n",
      "Data columns (total 39 columns):\n",
      " #   Column                 Non-Null Count  Dtype  \n",
      "---  ------                 --------------  -----  \n",
      " 0   amount_tsh             59400 non-null  float64\n",
      " 1   date_recorded          59400 non-null  object \n",
      " 2   funder                 55765 non-null  object \n",
      " 3   gps_height             59400 non-null  int64  \n",
      " 4   installer              55745 non-null  object \n",
      " 5   longitude              59400 non-null  float64\n",
      " 6   latitude               59400 non-null  float64\n",
      " 7   wpt_name               59400 non-null  object \n",
      " 8   num_private            59400 non-null  int64  \n",
      " 9   basin                  59400 non-null  object \n",
      " 10  subvillage             59029 non-null  object \n",
      " 11  region                 59400 non-null  object \n",
      " 12  region_code            59400 non-null  int64  \n",
      " 13  district_code          59400 non-null  int64  \n",
      " 14  lga                    59400 non-null  object \n",
      " 15  ward                   59400 non-null  object \n",
      " 16  population             59400 non-null  int64  \n",
      " 17  public_meeting         56066 non-null  object \n",
      " 18  recorded_by            59400 non-null  object \n",
      " 19  scheme_management      55523 non-null  object \n",
      " 20  scheme_name            31234 non-null  object \n",
      " 21  permit                 56344 non-null  object \n",
      " 22  construction_year      59400 non-null  int64  \n",
      " 23  extraction_type        59400 non-null  object \n",
      " 24  extraction_type_group  59400 non-null  object \n",
      " 25  extraction_type_class  59400 non-null  object \n",
      " 26  management             59400 non-null  object \n",
      " 27  management_group       59400 non-null  object \n",
      " 28  payment                59400 non-null  object \n",
      " 29  payment_type           59400 non-null  object \n",
      " 30  water_quality          59400 non-null  object \n",
      " 31  quality_group          59400 non-null  object \n",
      " 32  quantity               59400 non-null  object \n",
      " 33  quantity_group         59400 non-null  object \n",
      " 34  source                 59400 non-null  object \n",
      " 35  source_type            59400 non-null  object \n",
      " 36  source_class           59400 non-null  object \n",
      " 37  waterpoint_type        59400 non-null  object \n",
      " 38  waterpoint_type_group  59400 non-null  object \n",
      "dtypes: float64(3), int64(6), object(30)\n",
      "memory usage: 18.1+ MB\n"
     ]
    }
   ],
   "source": [
    "tvalues_df.info()"
   ]
  },
  {
   "cell_type": "markdown",
   "id": "irish-narrative",
   "metadata": {
    "papermill": {
     "duration": 0.074807,
     "end_time": "2021-06-22T02:57:50.658286",
     "exception": false,
     "start_time": "2021-06-22T02:57:50.583479",
     "status": "completed"
    },
    "tags": []
   },
   "source": [
    "As we can see, over 6 columns have null values in them. "
   ]
  },
  {
   "cell_type": "code",
   "execution_count": 8,
   "id": "manufactured-oxygen",
   "metadata": {
    "execution": {
     "iopub.execute_input": "2021-06-22T02:57:50.824519Z",
     "iopub.status.busy": "2021-06-22T02:57:50.818157Z",
     "iopub.status.idle": "2021-06-22T02:57:50.831736Z",
     "shell.execute_reply": "2021-06-22T02:57:50.831202Z",
     "shell.execute_reply.started": "2021-06-22T02:43:50.596973Z"
    },
    "papermill": {
     "duration": 0.098701,
     "end_time": "2021-06-22T02:57:50.831882",
     "exception": false,
     "start_time": "2021-06-22T02:57:50.733181",
     "status": "completed"
    },
    "tags": []
   },
   "outputs": [
    {
     "data": {
      "text/plain": [
       "public_meeting\n",
       "False     5055\n",
       "True     51011\n",
       "Name: public_meeting, dtype: int64"
      ]
     },
     "execution_count": 8,
     "metadata": {},
     "output_type": "execute_result"
    }
   ],
   "source": [
    "tvalues_df.groupby(['public_meeting'])['public_meeting'].count()"
   ]
  },
  {
   "cell_type": "code",
   "execution_count": 9,
   "id": "violent-tampa",
   "metadata": {
    "execution": {
     "iopub.execute_input": "2021-06-22T02:57:50.989202Z",
     "iopub.status.busy": "2021-06-22T02:57:50.988562Z",
     "iopub.status.idle": "2021-06-22T02:57:51.008138Z",
     "shell.execute_reply": "2021-06-22T02:57:51.008649Z",
     "shell.execute_reply.started": "2021-06-22T02:43:50.620037Z"
    },
    "papermill": {
     "duration": 0.100302,
     "end_time": "2021-06-22T02:57:51.008828",
     "exception": false,
     "start_time": "2021-06-22T02:57:50.908526",
     "status": "completed"
    },
    "tags": []
   },
   "outputs": [
    {
     "data": {
      "text/plain": [
       "permit\n",
       "False    17492\n",
       "True     38852\n",
       "Name: permit, dtype: int64"
      ]
     },
     "execution_count": 9,
     "metadata": {},
     "output_type": "execute_result"
    }
   ],
   "source": [
    "tvalues_df.groupby(['permit'])['permit'].count()"
   ]
  },
  {
   "cell_type": "code",
   "execution_count": 10,
   "id": "scenic-person",
   "metadata": {
    "execution": {
     "iopub.execute_input": "2021-06-22T02:57:51.175405Z",
     "iopub.status.busy": "2021-06-22T02:57:51.172476Z",
     "iopub.status.idle": "2021-06-22T02:57:51.190773Z",
     "shell.execute_reply": "2021-06-22T02:57:51.190254Z",
     "shell.execute_reply.started": "2021-06-22T02:43:50.641296Z"
    },
    "papermill": {
     "duration": 0.106389,
     "end_time": "2021-06-22T02:57:51.190914",
     "exception": false,
     "start_time": "2021-06-22T02:57:51.084525",
     "status": "completed"
    },
    "tags": []
   },
   "outputs": [
    {
     "data": {
      "text/plain": [
       "funder\n",
       "Government Of Tanzania    9084\n",
       "Danida                    3114\n",
       "Hesawa                    2202\n",
       "Rwssp                     1374\n",
       "World Bank                1349\n",
       "                          ... \n",
       "Malola                       1\n",
       "Maliasili                    1\n",
       "Males                        1\n",
       "Makusa                       1\n",
       "Zingibali Secondary          1\n",
       "Name: funder, Length: 1897, dtype: int64"
      ]
     },
     "execution_count": 10,
     "metadata": {},
     "output_type": "execute_result"
    }
   ],
   "source": [
    "tvalues_df.groupby(['funder'])['funder'].count().sort_values(ascending=False)"
   ]
  },
  {
   "cell_type": "code",
   "execution_count": 11,
   "id": "worse-highland",
   "metadata": {
    "execution": {
     "iopub.execute_input": "2021-06-22T02:57:51.384385Z",
     "iopub.status.busy": "2021-06-22T02:57:51.382630Z",
     "iopub.status.idle": "2021-06-22T02:57:51.404283Z",
     "shell.execute_reply": "2021-06-22T02:57:51.403645Z",
     "shell.execute_reply.started": "2021-06-22T02:43:50.670505Z"
    },
    "papermill": {
     "duration": 0.136998,
     "end_time": "2021-06-22T02:57:51.404421",
     "exception": false,
     "start_time": "2021-06-22T02:57:51.267423",
     "status": "completed"
    },
    "tags": []
   },
   "outputs": [
    {
     "data": {
      "text/plain": [
       "subvillage\n",
       "Madukani            508\n",
       "Shuleni             506\n",
       "Majengo             502\n",
       "Kati                373\n",
       "Mtakuja             262\n",
       "                   ... \n",
       "Lwenge`A'             1\n",
       "Lwengera Darajan      1\n",
       "Lwiche                1\n",
       "Lwihomelo             1\n",
       "Zuri                  1\n",
       "Name: subvillage, Length: 19287, dtype: int64"
      ]
     },
     "execution_count": 11,
     "metadata": {},
     "output_type": "execute_result"
    }
   ],
   "source": [
    "tvalues_df.groupby(['subvillage'])['subvillage'].count().sort_values(ascending=False)"
   ]
  },
  {
   "cell_type": "code",
   "execution_count": 12,
   "id": "precise-machinery",
   "metadata": {
    "execution": {
     "iopub.execute_input": "2021-06-22T02:57:51.573893Z",
     "iopub.status.busy": "2021-06-22T02:57:51.573268Z",
     "iopub.status.idle": "2021-06-22T02:57:51.588697Z",
     "shell.execute_reply": "2021-06-22T02:57:51.589254Z",
     "shell.execute_reply.started": "2021-06-22T02:43:50.727249Z"
    },
    "papermill": {
     "duration": 0.108937,
     "end_time": "2021-06-22T02:57:51.589471",
     "exception": false,
     "start_time": "2021-06-22T02:57:51.480534",
     "status": "completed"
    },
    "tags": []
   },
   "outputs": [
    {
     "data": {
      "text/plain": [
       "installer\n",
       "DWE           17402\n",
       "Government     1825\n",
       "RWE            1206\n",
       "Commu          1060\n",
       "DANIDA         1050\n",
       "KKKT            898\n",
       "Name: installer, dtype: int64"
      ]
     },
     "execution_count": 12,
     "metadata": {},
     "output_type": "execute_result"
    }
   ],
   "source": [
    "tvalues_df.groupby(['installer'])['installer'].count().sort_values(ascending=False).head(6)"
   ]
  },
  {
   "cell_type": "code",
   "execution_count": 13,
   "id": "muslim-subject",
   "metadata": {
    "execution": {
     "iopub.execute_input": "2021-06-22T02:57:51.768027Z",
     "iopub.status.busy": "2021-06-22T02:57:51.761886Z",
     "iopub.status.idle": "2021-06-22T02:57:51.775714Z",
     "shell.execute_reply": "2021-06-22T02:57:51.776216Z",
     "shell.execute_reply.started": "2021-06-22T02:43:50.754716Z"
    },
    "papermill": {
     "duration": 0.106058,
     "end_time": "2021-06-22T02:57:51.776436",
     "exception": false,
     "start_time": "2021-06-22T02:57:51.670378",
     "status": "completed"
    },
    "tags": []
   },
   "outputs": [
    {
     "data": {
      "text/plain": [
       "scheme_management\n",
       "VWC                 36793\n",
       "WUG                  5206\n",
       "Water authority      3153\n",
       "WUA                  2883\n",
       "Water Board          2748\n",
       "Parastatal           1680\n",
       "Private operator     1063\n",
       "Company              1061\n",
       "Other                 766\n",
       "SWC                    97\n",
       "Trust                  72\n",
       "None                    1\n",
       "Name: scheme_management, dtype: int64"
      ]
     },
     "execution_count": 13,
     "metadata": {},
     "output_type": "execute_result"
    }
   ],
   "source": [
    "tvalues_df.groupby(['scheme_management'])['scheme_management'].count().sort_values(ascending=False)"
   ]
  },
  {
   "cell_type": "markdown",
   "id": "commercial-brief",
   "metadata": {
    "papermill": {
     "duration": 0.078476,
     "end_time": "2021-06-22T02:57:51.933919",
     "exception": false,
     "start_time": "2021-06-22T02:57:51.855443",
     "status": "completed"
    },
    "tags": []
   },
   "source": [
    "**DATA IMPUTATION**"
   ]
  },
  {
   "cell_type": "code",
   "execution_count": 14,
   "id": "hydraulic-knife",
   "metadata": {
    "execution": {
     "iopub.execute_input": "2021-06-22T02:57:52.099866Z",
     "iopub.status.busy": "2021-06-22T02:57:52.099208Z",
     "iopub.status.idle": "2021-06-22T02:57:52.116942Z",
     "shell.execute_reply": "2021-06-22T02:57:52.116339Z",
     "shell.execute_reply.started": "2021-06-22T02:43:50.778929Z"
    },
    "papermill": {
     "duration": 0.103431,
     "end_time": "2021-06-22T02:57:52.117110",
     "exception": false,
     "start_time": "2021-06-22T02:57:52.013679",
     "status": "completed"
    },
    "tags": []
   },
   "outputs": [],
   "source": [
    "#handling null values\n",
    "tvalues_df.drop(['scheme_name'],axis=1,inplace=True)\n"
   ]
  },
  {
   "cell_type": "markdown",
   "id": "organizational-kennedy",
   "metadata": {
    "papermill": {
     "duration": 0.077854,
     "end_time": "2021-06-22T02:57:52.272449",
     "exception": false,
     "start_time": "2021-06-22T02:57:52.194595",
     "status": "completed"
    },
    "tags": []
   },
   "source": [
    "Since \"Scheme_name\" had almost 45% of its data values missing, I deleted it from the dataset."
   ]
  },
  {
   "cell_type": "code",
   "execution_count": 15,
   "id": "muslim-brush",
   "metadata": {
    "execution": {
     "iopub.execute_input": "2021-06-22T02:57:52.478682Z",
     "iopub.status.busy": "2021-06-22T02:57:52.478032Z",
     "iopub.status.idle": "2021-06-22T02:57:52.488364Z",
     "shell.execute_reply": "2021-06-22T02:57:52.488864Z",
     "shell.execute_reply.started": "2021-06-22T02:43:50.801120Z"
    },
    "papermill": {
     "duration": 0.138874,
     "end_time": "2021-06-22T02:57:52.489067",
     "exception": false,
     "start_time": "2021-06-22T02:57:52.350193",
     "status": "completed"
    },
    "tags": []
   },
   "outputs": [],
   "source": [
    "tvalues_df['public_meeting'].fillna(True,inplace=True)\n",
    "tvalues_df['scheme_management'].fillna('VWC',inplace=True)\n",
    "tvalues_df['installer'].fillna('DWE',inplace=True)"
   ]
  },
  {
   "cell_type": "code",
   "execution_count": 16,
   "id": "varying-payroll",
   "metadata": {
    "execution": {
     "iopub.execute_input": "2021-06-22T02:57:52.650003Z",
     "iopub.status.busy": "2021-06-22T02:57:52.649316Z",
     "iopub.status.idle": "2021-06-22T02:57:52.672092Z",
     "shell.execute_reply": "2021-06-22T02:57:52.672565Z",
     "shell.execute_reply.started": "2021-06-22T02:43:50.864603Z"
    },
    "papermill": {
     "duration": 0.105329,
     "end_time": "2021-06-22T02:57:52.672747",
     "exception": false,
     "start_time": "2021-06-22T02:57:52.567418",
     "status": "completed"
    },
    "tags": []
   },
   "outputs": [],
   "source": [
    "tvalues_df['permit'].fillna(True,inplace=True)"
   ]
  },
  {
   "cell_type": "code",
   "execution_count": 17,
   "id": "deluxe-launch",
   "metadata": {
    "execution": {
     "iopub.execute_input": "2021-06-22T02:57:52.832868Z",
     "iopub.status.busy": "2021-06-22T02:57:52.832259Z",
     "iopub.status.idle": "2021-06-22T02:57:52.843395Z",
     "shell.execute_reply": "2021-06-22T02:57:52.844069Z",
     "shell.execute_reply.started": "2021-06-22T02:43:50.887823Z"
    },
    "papermill": {
     "duration": 0.093033,
     "end_time": "2021-06-22T02:57:52.844297",
     "exception": false,
     "start_time": "2021-06-22T02:57:52.751264",
     "status": "completed"
    },
    "tags": []
   },
   "outputs": [],
   "source": [
    "tvalues_df['funder'].fillna('Government of Tanzania',inplace=True)"
   ]
  },
  {
   "cell_type": "code",
   "execution_count": 18,
   "id": "temporal-maximum",
   "metadata": {
    "execution": {
     "iopub.execute_input": "2021-06-22T02:57:53.012734Z",
     "iopub.status.busy": "2021-06-22T02:57:53.012043Z",
     "iopub.status.idle": "2021-06-22T02:57:53.015536Z",
     "shell.execute_reply": "2021-06-22T02:57:53.015019Z",
     "shell.execute_reply.started": "2021-06-22T02:43:50.902050Z"
    },
    "papermill": {
     "duration": 0.093689,
     "end_time": "2021-06-22T02:57:53.015692",
     "exception": false,
     "start_time": "2021-06-22T02:57:52.922003",
     "status": "completed"
    },
    "tags": []
   },
   "outputs": [],
   "source": [
    "tvalues_df['subvillage'].fillna('Madukani',inplace=True)"
   ]
  },
  {
   "cell_type": "markdown",
   "id": "constant-tissue",
   "metadata": {
    "papermill": {
     "duration": 0.07801,
     "end_time": "2021-06-22T02:57:53.171466",
     "exception": false,
     "start_time": "2021-06-22T02:57:53.093456",
     "status": "completed"
    },
    "tags": []
   },
   "source": [
    "I have used mode imputation to replace the missing values in the dataset."
   ]
  },
  {
   "cell_type": "code",
   "execution_count": 19,
   "id": "lightweight-distinction",
   "metadata": {
    "execution": {
     "iopub.execute_input": "2021-06-22T02:57:53.475399Z",
     "iopub.status.busy": "2021-06-22T02:57:53.332761Z",
     "iopub.status.idle": "2021-06-22T02:57:53.498056Z",
     "shell.execute_reply": "2021-06-22T02:57:53.497327Z",
     "shell.execute_reply.started": "2021-06-22T02:43:50.919173Z"
    },
    "papermill": {
     "duration": 0.249406,
     "end_time": "2021-06-22T02:57:53.498220",
     "exception": false,
     "start_time": "2021-06-22T02:57:53.248814",
     "status": "completed"
    },
    "tags": []
   },
   "outputs": [
    {
     "name": "stdout",
     "output_type": "stream",
     "text": [
      "<class 'pandas.core.frame.DataFrame'>\n",
      "Int64Index: 59400 entries, 69572 to 26348\n",
      "Data columns (total 38 columns):\n",
      " #   Column                 Non-Null Count  Dtype  \n",
      "---  ------                 --------------  -----  \n",
      " 0   amount_tsh             59400 non-null  float64\n",
      " 1   date_recorded          59400 non-null  object \n",
      " 2   funder                 59400 non-null  object \n",
      " 3   gps_height             59400 non-null  int64  \n",
      " 4   installer              59400 non-null  object \n",
      " 5   longitude              59400 non-null  float64\n",
      " 6   latitude               59400 non-null  float64\n",
      " 7   wpt_name               59400 non-null  object \n",
      " 8   num_private            59400 non-null  int64  \n",
      " 9   basin                  59400 non-null  object \n",
      " 10  subvillage             59400 non-null  object \n",
      " 11  region                 59400 non-null  object \n",
      " 12  region_code            59400 non-null  int64  \n",
      " 13  district_code          59400 non-null  int64  \n",
      " 14  lga                    59400 non-null  object \n",
      " 15  ward                   59400 non-null  object \n",
      " 16  population             59400 non-null  int64  \n",
      " 17  public_meeting         59400 non-null  bool   \n",
      " 18  recorded_by            59400 non-null  object \n",
      " 19  scheme_management      59400 non-null  object \n",
      " 20  permit                 59400 non-null  bool   \n",
      " 21  construction_year      59400 non-null  int64  \n",
      " 22  extraction_type        59400 non-null  object \n",
      " 23  extraction_type_group  59400 non-null  object \n",
      " 24  extraction_type_class  59400 non-null  object \n",
      " 25  management             59400 non-null  object \n",
      " 26  management_group       59400 non-null  object \n",
      " 27  payment                59400 non-null  object \n",
      " 28  payment_type           59400 non-null  object \n",
      " 29  water_quality          59400 non-null  object \n",
      " 30  quality_group          59400 non-null  object \n",
      " 31  quantity               59400 non-null  object \n",
      " 32  quantity_group         59400 non-null  object \n",
      " 33  source                 59400 non-null  object \n",
      " 34  source_type            59400 non-null  object \n",
      " 35  source_class           59400 non-null  object \n",
      " 36  waterpoint_type        59400 non-null  object \n",
      " 37  waterpoint_type_group  59400 non-null  object \n",
      "dtypes: bool(2), float64(3), int64(6), object(27)\n",
      "memory usage: 16.9+ MB\n"
     ]
    }
   ],
   "source": [
    "tvalues_df.info()"
   ]
  },
  {
   "cell_type": "code",
   "execution_count": 20,
   "id": "buried-nylon",
   "metadata": {
    "execution": {
     "iopub.execute_input": "2021-06-22T02:57:53.666089Z",
     "iopub.status.busy": "2021-06-22T02:57:53.665351Z",
     "iopub.status.idle": "2021-06-22T02:57:53.826146Z",
     "shell.execute_reply": "2021-06-22T02:57:53.826716Z",
     "shell.execute_reply.started": "2021-06-22T02:43:51.100233Z"
    },
    "papermill": {
     "duration": 0.249398,
     "end_time": "2021-06-22T02:57:53.826915",
     "exception": false,
     "start_time": "2021-06-22T02:57:53.577517",
     "status": "completed"
    },
    "tags": []
   },
   "outputs": [
    {
     "name": "stdout",
     "output_type": "stream",
     "text": [
      "date_recorded has 356 unique value(s)\n",
      "funder has 1898 unique value(s)\n",
      "installer has 2145 unique value(s)\n",
      "wpt_name has 37400 unique value(s)\n",
      "basin has 9 unique value(s)\n",
      "subvillage has 19287 unique value(s)\n",
      "region has 21 unique value(s)\n",
      "lga has 125 unique value(s)\n",
      "ward has 2092 unique value(s)\n",
      "recorded_by has 1 unique value(s)\n",
      "scheme_management has 12 unique value(s)\n",
      "extraction_type has 18 unique value(s)\n",
      "extraction_type_group has 13 unique value(s)\n",
      "extraction_type_class has 7 unique value(s)\n",
      "management has 12 unique value(s)\n",
      "management_group has 5 unique value(s)\n",
      "payment has 7 unique value(s)\n",
      "payment_type has 7 unique value(s)\n",
      "water_quality has 8 unique value(s)\n",
      "quality_group has 6 unique value(s)\n",
      "quantity has 5 unique value(s)\n",
      "quantity_group has 5 unique value(s)\n",
      "source has 10 unique value(s)\n",
      "source_type has 7 unique value(s)\n",
      "source_class has 3 unique value(s)\n",
      "waterpoint_type has 7 unique value(s)\n",
      "waterpoint_type_group has 6 unique value(s)\n"
     ]
    }
   ],
   "source": [
    "#printing unique values in each column\n",
    "for col in tvalues_df.select_dtypes(include=['object']).columns:\n",
    "    print(col+\" has \"+str(len(tvalues_df[col].unique()))+\" unique value(s)\")"
   ]
  },
  {
   "cell_type": "code",
   "execution_count": 21,
   "id": "beautiful-consideration",
   "metadata": {
    "execution": {
     "iopub.execute_input": "2021-06-22T02:57:53.991563Z",
     "iopub.status.busy": "2021-06-22T02:57:53.990951Z",
     "iopub.status.idle": "2021-06-22T02:57:54.012139Z",
     "shell.execute_reply": "2021-06-22T02:57:54.011475Z",
     "shell.execute_reply.started": "2021-06-22T02:43:51.270595Z"
    },
    "papermill": {
     "duration": 0.106281,
     "end_time": "2021-06-22T02:57:54.012303",
     "exception": false,
     "start_time": "2021-06-22T02:57:53.906022",
     "status": "completed"
    },
    "tags": []
   },
   "outputs": [
    {
     "name": "stdout",
     "output_type": "stream",
     "text": [
      "Total categorical columns are 27\n"
     ]
    }
   ],
   "source": [
    "print(\"Total categorical columns are\"+\" \"+str(len(tvalues_df.select_dtypes(include=['object']).columns)))"
   ]
  },
  {
   "cell_type": "markdown",
   "id": "national-diary",
   "metadata": {
    "papermill": {
     "duration": 0.077999,
     "end_time": "2021-06-22T02:57:54.169872",
     "exception": false,
     "start_time": "2021-06-22T02:57:54.091873",
     "status": "completed"
    },
    "tags": []
   },
   "source": [
    "Dataset contains 30 categorical columns and 8 numerical columns"
   ]
  },
  {
   "cell_type": "code",
   "execution_count": 22,
   "id": "dynamic-harassment",
   "metadata": {
    "execution": {
     "iopub.execute_input": "2021-06-22T02:57:54.335220Z",
     "iopub.status.busy": "2021-06-22T02:57:54.334586Z",
     "iopub.status.idle": "2021-06-22T02:57:54.339814Z",
     "shell.execute_reply": "2021-06-22T02:57:54.339288Z",
     "shell.execute_reply.started": "2021-06-22T02:43:51.291476Z"
    },
    "papermill": {
     "duration": 0.090555,
     "end_time": "2021-06-22T02:57:54.339960",
     "exception": false,
     "start_time": "2021-06-22T02:57:54.249405",
     "status": "completed"
    },
    "tags": []
   },
   "outputs": [],
   "source": [
    "tvalues_df['pump_status']=tlabels_df['status_group']"
   ]
  },
  {
   "cell_type": "code",
   "execution_count": 23,
   "id": "sublime-style",
   "metadata": {
    "execution": {
     "iopub.execute_input": "2021-06-22T02:57:54.508288Z",
     "iopub.status.busy": "2021-06-22T02:57:54.507568Z",
     "iopub.status.idle": "2021-06-22T02:57:54.514619Z",
     "shell.execute_reply": "2021-06-22T02:57:54.513941Z",
     "shell.execute_reply.started": "2021-06-22T02:43:51.298116Z"
    },
    "papermill": {
     "duration": 0.094869,
     "end_time": "2021-06-22T02:57:54.514764",
     "exception": false,
     "start_time": "2021-06-22T02:57:54.419895",
     "status": "completed"
    },
    "tags": []
   },
   "outputs": [
    {
     "data": {
      "text/plain": [
       "array(['pay annually', 'never pay', 'pay per bucket', 'unknown',\n",
       "       'pay when scheme fails', 'other', 'pay monthly'], dtype=object)"
      ]
     },
     "execution_count": 23,
     "metadata": {},
     "output_type": "execute_result"
    }
   ],
   "source": [
    "tvalues_df['payment'].unique()"
   ]
  },
  {
   "cell_type": "code",
   "execution_count": 24,
   "id": "refined-sequence",
   "metadata": {
    "execution": {
     "iopub.execute_input": "2021-06-22T02:57:54.683586Z",
     "iopub.status.busy": "2021-06-22T02:57:54.682855Z",
     "iopub.status.idle": "2021-06-22T02:57:54.689392Z",
     "shell.execute_reply": "2021-06-22T02:57:54.688849Z",
     "shell.execute_reply.started": "2021-06-22T02:43:51.320045Z"
    },
    "papermill": {
     "duration": 0.095165,
     "end_time": "2021-06-22T02:57:54.689535",
     "exception": false,
     "start_time": "2021-06-22T02:57:54.594370",
     "status": "completed"
    },
    "tags": []
   },
   "outputs": [
    {
     "data": {
      "text/plain": [
       "array(['annually', 'never pay', 'per bucket', 'unknown', 'on failure',\n",
       "       'other', 'monthly'], dtype=object)"
      ]
     },
     "execution_count": 24,
     "metadata": {},
     "output_type": "execute_result"
    }
   ],
   "source": [
    "tvalues_df['payment_type'].unique()"
   ]
  },
  {
   "cell_type": "code",
   "execution_count": 25,
   "id": "focused-monday",
   "metadata": {
    "execution": {
     "iopub.execute_input": "2021-06-22T02:57:54.854819Z",
     "iopub.status.busy": "2021-06-22T02:57:54.854183Z",
     "iopub.status.idle": "2021-06-22T02:57:54.924244Z",
     "shell.execute_reply": "2021-06-22T02:57:54.923588Z",
     "shell.execute_reply.started": "2021-06-22T02:43:51.332831Z"
    },
    "papermill": {
     "duration": 0.155164,
     "end_time": "2021-06-22T02:57:54.924410",
     "exception": false,
     "start_time": "2021-06-22T02:57:54.769246",
     "status": "completed"
    },
    "tags": []
   },
   "outputs": [],
   "source": [
    "tvalues_df.drop(['payment','quantity_group'],axis=1,inplace=True)"
   ]
  },
  {
   "cell_type": "code",
   "execution_count": 26,
   "id": "honey-intermediate",
   "metadata": {
    "execution": {
     "iopub.execute_input": "2021-06-22T02:57:55.092655Z",
     "iopub.status.busy": "2021-06-22T02:57:55.091871Z",
     "iopub.status.idle": "2021-06-22T02:57:55.112011Z",
     "shell.execute_reply": "2021-06-22T02:57:55.111406Z",
     "shell.execute_reply.started": "2021-06-22T02:43:51.386233Z"
    },
    "papermill": {
     "duration": 0.107536,
     "end_time": "2021-06-22T02:57:55.112173",
     "exception": false,
     "start_time": "2021-06-22T02:57:55.004637",
     "status": "completed"
    },
    "tags": []
   },
   "outputs": [],
   "source": [
    "tvalues_df.drop(['recorded_by'],axis=1,inplace=True)"
   ]
  },
  {
   "cell_type": "code",
   "execution_count": 27,
   "id": "diverse-safety",
   "metadata": {
    "execution": {
     "iopub.execute_input": "2021-06-22T02:57:55.307325Z",
     "iopub.status.busy": "2021-06-22T02:57:55.306400Z",
     "iopub.status.idle": "2021-06-22T02:57:55.311383Z",
     "shell.execute_reply": "2021-06-22T02:57:55.310733Z",
     "shell.execute_reply.started": "2021-06-22T02:43:51.404706Z"
    },
    "papermill": {
     "duration": 0.118485,
     "end_time": "2021-06-22T02:57:55.311578",
     "exception": false,
     "start_time": "2021-06-22T02:57:55.193093",
     "status": "completed"
    },
    "tags": []
   },
   "outputs": [
    {
     "data": {
      "text/html": [
       "<div>\n",
       "<style scoped>\n",
       "    .dataframe tbody tr th:only-of-type {\n",
       "        vertical-align: middle;\n",
       "    }\n",
       "\n",
       "    .dataframe tbody tr th {\n",
       "        vertical-align: top;\n",
       "    }\n",
       "\n",
       "    .dataframe thead th {\n",
       "        text-align: right;\n",
       "    }\n",
       "</style>\n",
       "<table border=\"1\" class=\"dataframe\">\n",
       "  <thead>\n",
       "    <tr style=\"text-align: right;\">\n",
       "      <th></th>\n",
       "      <th>amount_tsh</th>\n",
       "      <th>date_recorded</th>\n",
       "      <th>funder</th>\n",
       "      <th>gps_height</th>\n",
       "      <th>installer</th>\n",
       "      <th>longitude</th>\n",
       "      <th>latitude</th>\n",
       "      <th>wpt_name</th>\n",
       "      <th>num_private</th>\n",
       "      <th>basin</th>\n",
       "      <th>...</th>\n",
       "      <th>payment_type</th>\n",
       "      <th>water_quality</th>\n",
       "      <th>quality_group</th>\n",
       "      <th>quantity</th>\n",
       "      <th>source</th>\n",
       "      <th>source_type</th>\n",
       "      <th>source_class</th>\n",
       "      <th>waterpoint_type</th>\n",
       "      <th>waterpoint_type_group</th>\n",
       "      <th>pump_status</th>\n",
       "    </tr>\n",
       "    <tr>\n",
       "      <th>id</th>\n",
       "      <th></th>\n",
       "      <th></th>\n",
       "      <th></th>\n",
       "      <th></th>\n",
       "      <th></th>\n",
       "      <th></th>\n",
       "      <th></th>\n",
       "      <th></th>\n",
       "      <th></th>\n",
       "      <th></th>\n",
       "      <th></th>\n",
       "      <th></th>\n",
       "      <th></th>\n",
       "      <th></th>\n",
       "      <th></th>\n",
       "      <th></th>\n",
       "      <th></th>\n",
       "      <th></th>\n",
       "      <th></th>\n",
       "      <th></th>\n",
       "      <th></th>\n",
       "    </tr>\n",
       "  </thead>\n",
       "  <tbody>\n",
       "    <tr>\n",
       "      <th>69572</th>\n",
       "      <td>6000.0</td>\n",
       "      <td>2011-03-14</td>\n",
       "      <td>Roman</td>\n",
       "      <td>1390</td>\n",
       "      <td>Roman</td>\n",
       "      <td>34.938093</td>\n",
       "      <td>-9.856322</td>\n",
       "      <td>none</td>\n",
       "      <td>0</td>\n",
       "      <td>Lake Nyasa</td>\n",
       "      <td>...</td>\n",
       "      <td>annually</td>\n",
       "      <td>soft</td>\n",
       "      <td>good</td>\n",
       "      <td>enough</td>\n",
       "      <td>spring</td>\n",
       "      <td>spring</td>\n",
       "      <td>groundwater</td>\n",
       "      <td>communal standpipe</td>\n",
       "      <td>communal standpipe</td>\n",
       "      <td>functional</td>\n",
       "    </tr>\n",
       "    <tr>\n",
       "      <th>8776</th>\n",
       "      <td>0.0</td>\n",
       "      <td>2013-03-06</td>\n",
       "      <td>Grumeti</td>\n",
       "      <td>1399</td>\n",
       "      <td>GRUMETI</td>\n",
       "      <td>34.698766</td>\n",
       "      <td>-2.147466</td>\n",
       "      <td>Zahanati</td>\n",
       "      <td>0</td>\n",
       "      <td>Lake Victoria</td>\n",
       "      <td>...</td>\n",
       "      <td>never pay</td>\n",
       "      <td>soft</td>\n",
       "      <td>good</td>\n",
       "      <td>insufficient</td>\n",
       "      <td>rainwater harvesting</td>\n",
       "      <td>rainwater harvesting</td>\n",
       "      <td>surface</td>\n",
       "      <td>communal standpipe</td>\n",
       "      <td>communal standpipe</td>\n",
       "      <td>functional</td>\n",
       "    </tr>\n",
       "    <tr>\n",
       "      <th>34310</th>\n",
       "      <td>25.0</td>\n",
       "      <td>2013-02-25</td>\n",
       "      <td>Lottery Club</td>\n",
       "      <td>686</td>\n",
       "      <td>World vision</td>\n",
       "      <td>37.460664</td>\n",
       "      <td>-3.821329</td>\n",
       "      <td>Kwa Mahundi</td>\n",
       "      <td>0</td>\n",
       "      <td>Pangani</td>\n",
       "      <td>...</td>\n",
       "      <td>per bucket</td>\n",
       "      <td>soft</td>\n",
       "      <td>good</td>\n",
       "      <td>enough</td>\n",
       "      <td>dam</td>\n",
       "      <td>dam</td>\n",
       "      <td>surface</td>\n",
       "      <td>communal standpipe multiple</td>\n",
       "      <td>communal standpipe</td>\n",
       "      <td>functional</td>\n",
       "    </tr>\n",
       "    <tr>\n",
       "      <th>67743</th>\n",
       "      <td>0.0</td>\n",
       "      <td>2013-01-28</td>\n",
       "      <td>Unicef</td>\n",
       "      <td>263</td>\n",
       "      <td>UNICEF</td>\n",
       "      <td>38.486161</td>\n",
       "      <td>-11.155298</td>\n",
       "      <td>Zahanati Ya Nanyumbu</td>\n",
       "      <td>0</td>\n",
       "      <td>Ruvuma / Southern Coast</td>\n",
       "      <td>...</td>\n",
       "      <td>never pay</td>\n",
       "      <td>soft</td>\n",
       "      <td>good</td>\n",
       "      <td>dry</td>\n",
       "      <td>machine dbh</td>\n",
       "      <td>borehole</td>\n",
       "      <td>groundwater</td>\n",
       "      <td>communal standpipe multiple</td>\n",
       "      <td>communal standpipe</td>\n",
       "      <td>non functional</td>\n",
       "    </tr>\n",
       "    <tr>\n",
       "      <th>19728</th>\n",
       "      <td>0.0</td>\n",
       "      <td>2011-07-13</td>\n",
       "      <td>Action In A</td>\n",
       "      <td>0</td>\n",
       "      <td>Artisan</td>\n",
       "      <td>31.130847</td>\n",
       "      <td>-1.825359</td>\n",
       "      <td>Shuleni</td>\n",
       "      <td>0</td>\n",
       "      <td>Lake Victoria</td>\n",
       "      <td>...</td>\n",
       "      <td>never pay</td>\n",
       "      <td>soft</td>\n",
       "      <td>good</td>\n",
       "      <td>seasonal</td>\n",
       "      <td>rainwater harvesting</td>\n",
       "      <td>rainwater harvesting</td>\n",
       "      <td>surface</td>\n",
       "      <td>communal standpipe</td>\n",
       "      <td>communal standpipe</td>\n",
       "      <td>functional</td>\n",
       "    </tr>\n",
       "  </tbody>\n",
       "</table>\n",
       "<p>5 rows × 36 columns</p>\n",
       "</div>"
      ],
      "text/plain": [
       "       amount_tsh date_recorded        funder  gps_height     installer  \\\n",
       "id                                                                        \n",
       "69572      6000.0    2011-03-14         Roman        1390         Roman   \n",
       "8776          0.0    2013-03-06       Grumeti        1399       GRUMETI   \n",
       "34310        25.0    2013-02-25  Lottery Club         686  World vision   \n",
       "67743         0.0    2013-01-28        Unicef         263        UNICEF   \n",
       "19728         0.0    2011-07-13   Action In A           0       Artisan   \n",
       "\n",
       "       longitude   latitude              wpt_name  num_private  \\\n",
       "id                                                               \n",
       "69572  34.938093  -9.856322                  none            0   \n",
       "8776   34.698766  -2.147466              Zahanati            0   \n",
       "34310  37.460664  -3.821329           Kwa Mahundi            0   \n",
       "67743  38.486161 -11.155298  Zahanati Ya Nanyumbu            0   \n",
       "19728  31.130847  -1.825359               Shuleni            0   \n",
       "\n",
       "                         basin  ... payment_type water_quality  quality_group  \\\n",
       "id                              ...                                             \n",
       "69572               Lake Nyasa  ...     annually          soft           good   \n",
       "8776             Lake Victoria  ...    never pay          soft           good   \n",
       "34310                  Pangani  ...   per bucket          soft           good   \n",
       "67743  Ruvuma / Southern Coast  ...    never pay          soft           good   \n",
       "19728            Lake Victoria  ...    never pay          soft           good   \n",
       "\n",
       "           quantity                source           source_type  source_class  \\\n",
       "id                                                                              \n",
       "69572        enough                spring                spring   groundwater   \n",
       "8776   insufficient  rainwater harvesting  rainwater harvesting       surface   \n",
       "34310        enough                   dam                   dam       surface   \n",
       "67743           dry           machine dbh              borehole   groundwater   \n",
       "19728      seasonal  rainwater harvesting  rainwater harvesting       surface   \n",
       "\n",
       "                   waterpoint_type waterpoint_type_group     pump_status  \n",
       "id                                                                        \n",
       "69572           communal standpipe    communal standpipe      functional  \n",
       "8776            communal standpipe    communal standpipe      functional  \n",
       "34310  communal standpipe multiple    communal standpipe      functional  \n",
       "67743  communal standpipe multiple    communal standpipe  non functional  \n",
       "19728           communal standpipe    communal standpipe      functional  \n",
       "\n",
       "[5 rows x 36 columns]"
      ]
     },
     "execution_count": 27,
     "metadata": {},
     "output_type": "execute_result"
    }
   ],
   "source": [
    "tvalues_df.head()"
   ]
  },
  {
   "cell_type": "code",
   "execution_count": 28,
   "id": "attached-government",
   "metadata": {
    "execution": {
     "iopub.execute_input": "2021-06-22T02:57:55.478362Z",
     "iopub.status.busy": "2021-06-22T02:57:55.477382Z",
     "iopub.status.idle": "2021-06-22T02:57:55.484883Z",
     "shell.execute_reply": "2021-06-22T02:57:55.484408Z",
     "shell.execute_reply.started": "2021-06-22T02:43:51.440915Z"
    },
    "papermill": {
     "duration": 0.092132,
     "end_time": "2021-06-22T02:57:55.485041",
     "exception": false,
     "start_time": "2021-06-22T02:57:55.392909",
     "status": "completed"
    },
    "tags": []
   },
   "outputs": [
    {
     "data": {
      "text/plain": [
       "array([   0,   39,    5,   45,    6,    3,  698,   32,   15,    7,   25,\n",
       "        102,    1,   93,   14,   34,  120,   17,  213,   47,    8,   41,\n",
       "         80,  141,   20,   35,  131,    4,   22,   11,   87,   61,   65,\n",
       "        136,    2,  180,   38,   62,    9,   16,   23,   42,   24,   12,\n",
       "        668,  672,   58,  150,  280,  160,   50, 1776,   30,   27,   10,\n",
       "         94,   26,  450,  240,  755,   60,  111,  300,   55, 1402])"
      ]
     },
     "execution_count": 28,
     "metadata": {},
     "output_type": "execute_result"
    }
   ],
   "source": [
    "tvalues_df['num_private'].unique()"
   ]
  },
  {
   "cell_type": "code",
   "execution_count": 29,
   "id": "inside-ceremony",
   "metadata": {
    "execution": {
     "iopub.execute_input": "2021-06-22T02:57:55.652825Z",
     "iopub.status.busy": "2021-06-22T02:57:55.652004Z",
     "iopub.status.idle": "2021-06-22T02:57:55.665645Z",
     "shell.execute_reply": "2021-06-22T02:57:55.665136Z",
     "shell.execute_reply.started": "2021-06-22T02:43:51.453982Z"
    },
    "papermill": {
     "duration": 0.100345,
     "end_time": "2021-06-22T02:57:55.665797",
     "exception": false,
     "start_time": "2021-06-22T02:57:55.565452",
     "status": "completed"
    },
    "tags": []
   },
   "outputs": [],
   "source": [
    "tvalues_df.drop(['pump_status'],axis=1,inplace=True)"
   ]
  },
  {
   "cell_type": "code",
   "execution_count": 30,
   "id": "independent-rotation",
   "metadata": {
    "execution": {
     "iopub.execute_input": "2021-06-22T02:57:55.832829Z",
     "iopub.status.busy": "2021-06-22T02:57:55.832195Z",
     "iopub.status.idle": "2021-06-22T02:57:56.116910Z",
     "shell.execute_reply": "2021-06-22T02:57:56.116148Z",
     "shell.execute_reply.started": "2021-06-22T02:49:41.669409Z"
    },
    "papermill": {
     "duration": 0.369309,
     "end_time": "2021-06-22T02:57:56.117091",
     "exception": false,
     "start_time": "2021-06-22T02:57:55.747782",
     "status": "completed"
    },
    "tags": []
   },
   "outputs": [],
   "source": [
    "#splitting the datasets now so as to prevent data leakage\n",
    "from sklearn.model_selection import train_test_split\n",
    "X_train,X_holdout,y_train,y_holdout=train_test_split(tvalues_df,tlabels_df,test_size=0.25)"
   ]
  },
  {
   "cell_type": "code",
   "execution_count": 31,
   "id": "surface-trash",
   "metadata": {
    "execution": {
     "iopub.execute_input": "2021-06-22T02:57:56.285740Z",
     "iopub.status.busy": "2021-06-22T02:57:56.285031Z",
     "iopub.status.idle": "2021-06-22T02:57:56.288516Z",
     "shell.execute_reply": "2021-06-22T02:57:56.287855Z",
     "shell.execute_reply.started": "2021-06-22T02:43:51.517200Z"
    },
    "papermill": {
     "duration": 0.089666,
     "end_time": "2021-06-22T02:57:56.288681",
     "exception": false,
     "start_time": "2021-06-22T02:57:56.199015",
     "status": "completed"
    },
    "tags": []
   },
   "outputs": [
    {
     "data": {
      "text/plain": [
       "(44550, 35)"
      ]
     },
     "execution_count": 31,
     "metadata": {},
     "output_type": "execute_result"
    }
   ],
   "source": [
    "X_train.shape"
   ]
  },
  {
   "cell_type": "code",
   "execution_count": 32,
   "id": "pretty-attribute",
   "metadata": {
    "execution": {
     "iopub.execute_input": "2021-06-22T02:57:56.460426Z",
     "iopub.status.busy": "2021-06-22T02:57:56.459718Z",
     "iopub.status.idle": "2021-06-22T02:57:56.464215Z",
     "shell.execute_reply": "2021-06-22T02:57:56.463565Z",
     "shell.execute_reply.started": "2021-06-22T02:43:51.522955Z"
    },
    "papermill": {
     "duration": 0.092673,
     "end_time": "2021-06-22T02:57:56.464384",
     "exception": false,
     "start_time": "2021-06-22T02:57:56.371711",
     "status": "completed"
    },
    "tags": []
   },
   "outputs": [
    {
     "data": {
      "text/plain": [
       "Index(['amount_tsh', 'date_recorded', 'funder', 'gps_height', 'installer',\n",
       "       'longitude', 'latitude', 'wpt_name', 'num_private', 'basin',\n",
       "       'subvillage', 'region', 'region_code', 'district_code', 'lga', 'ward',\n",
       "       'population', 'public_meeting', 'scheme_management', 'permit',\n",
       "       'construction_year', 'extraction_type', 'extraction_type_group',\n",
       "       'extraction_type_class', 'management', 'management_group',\n",
       "       'payment_type', 'water_quality', 'quality_group', 'quantity', 'source',\n",
       "       'source_type', 'source_class', 'waterpoint_type',\n",
       "       'waterpoint_type_group'],\n",
       "      dtype='object')"
      ]
     },
     "execution_count": 32,
     "metadata": {},
     "output_type": "execute_result"
    }
   ],
   "source": [
    "X_train.columns"
   ]
  },
  {
   "cell_type": "code",
   "execution_count": 33,
   "id": "impossible-columbia",
   "metadata": {
    "execution": {
     "iopub.execute_input": "2021-06-22T02:57:56.636048Z",
     "iopub.status.busy": "2021-06-22T02:57:56.634248Z",
     "iopub.status.idle": "2021-06-22T02:57:56.640261Z",
     "shell.execute_reply": "2021-06-22T02:57:56.639114Z",
     "shell.execute_reply.started": "2021-06-22T02:43:51.535796Z"
    },
    "papermill": {
     "duration": 0.093146,
     "end_time": "2021-06-22T02:57:56.640525",
     "exception": false,
     "start_time": "2021-06-22T02:57:56.547379",
     "status": "completed"
    },
    "tags": []
   },
   "outputs": [
    {
     "name": "stderr",
     "output_type": "stream",
     "text": [
      "/opt/conda/lib/python3.7/site-packages/ipykernel_launcher.py:1: SettingWithCopyWarning: \n",
      "A value is trying to be set on a copy of a slice from a DataFrame.\n",
      "Try using .loc[row_indexer,col_indexer] = value instead\n",
      "\n",
      "See the caveats in the documentation: https://pandas.pydata.org/pandas-docs/stable/user_guide/indexing.html#returning-a-view-versus-a-copy\n",
      "  \"\"\"Entry point for launching an IPython kernel.\n"
     ]
    }
   ],
   "source": [
    "X_train['pump_status']=y_train"
   ]
  },
  {
   "cell_type": "code",
   "execution_count": 34,
   "id": "fresh-database",
   "metadata": {
    "execution": {
     "iopub.execute_input": "2021-06-22T02:57:56.815070Z",
     "iopub.status.busy": "2021-06-22T02:57:56.814416Z",
     "iopub.status.idle": "2021-06-22T02:57:56.919055Z",
     "shell.execute_reply": "2021-06-22T02:57:56.918452Z",
     "shell.execute_reply.started": "2021-06-22T02:43:51.546951Z"
    },
    "papermill": {
     "duration": 0.194268,
     "end_time": "2021-06-22T02:57:56.919232",
     "exception": false,
     "start_time": "2021-06-22T02:57:56.724964",
     "status": "completed"
    },
    "tags": []
   },
   "outputs": [
    {
     "data": {
      "text/html": [
       "<div>\n",
       "<style scoped>\n",
       "    .dataframe tbody tr th:only-of-type {\n",
       "        vertical-align: middle;\n",
       "    }\n",
       "\n",
       "    .dataframe tbody tr th {\n",
       "        vertical-align: top;\n",
       "    }\n",
       "\n",
       "    .dataframe thead th {\n",
       "        text-align: right;\n",
       "    }\n",
       "</style>\n",
       "<table border=\"1\" class=\"dataframe\">\n",
       "  <thead>\n",
       "    <tr style=\"text-align: right;\">\n",
       "      <th></th>\n",
       "      <th>amount_tsh</th>\n",
       "      <th>gps_height</th>\n",
       "      <th>longitude</th>\n",
       "      <th>latitude</th>\n",
       "      <th>num_private</th>\n",
       "      <th>region_code</th>\n",
       "      <th>district_code</th>\n",
       "      <th>population</th>\n",
       "      <th>construction_year</th>\n",
       "    </tr>\n",
       "  </thead>\n",
       "  <tbody>\n",
       "    <tr>\n",
       "      <th>count</th>\n",
       "      <td>44550.000000</td>\n",
       "      <td>44550.000000</td>\n",
       "      <td>44550.000000</td>\n",
       "      <td>4.455000e+04</td>\n",
       "      <td>44550.000000</td>\n",
       "      <td>44550.000000</td>\n",
       "      <td>44550.000000</td>\n",
       "      <td>44550.000000</td>\n",
       "      <td>44550.000000</td>\n",
       "    </tr>\n",
       "    <tr>\n",
       "      <th>mean</th>\n",
       "      <td>318.822752</td>\n",
       "      <td>670.416588</td>\n",
       "      <td>34.082528</td>\n",
       "      <td>-5.706236e+00</td>\n",
       "      <td>0.431089</td>\n",
       "      <td>15.304310</td>\n",
       "      <td>5.615354</td>\n",
       "      <td>180.985140</td>\n",
       "      <td>1304.546375</td>\n",
       "    </tr>\n",
       "    <tr>\n",
       "      <th>std</th>\n",
       "      <td>3111.142639</td>\n",
       "      <td>694.095519</td>\n",
       "      <td>6.575687</td>\n",
       "      <td>2.946216e+00</td>\n",
       "      <td>8.075173</td>\n",
       "      <td>17.612218</td>\n",
       "      <td>9.607305</td>\n",
       "      <td>475.325989</td>\n",
       "      <td>950.383911</td>\n",
       "    </tr>\n",
       "    <tr>\n",
       "      <th>min</th>\n",
       "      <td>0.000000</td>\n",
       "      <td>-90.000000</td>\n",
       "      <td>0.000000</td>\n",
       "      <td>-1.164944e+01</td>\n",
       "      <td>0.000000</td>\n",
       "      <td>1.000000</td>\n",
       "      <td>0.000000</td>\n",
       "      <td>0.000000</td>\n",
       "      <td>0.000000</td>\n",
       "    </tr>\n",
       "    <tr>\n",
       "      <th>25%</th>\n",
       "      <td>0.000000</td>\n",
       "      <td>0.000000</td>\n",
       "      <td>33.094471</td>\n",
       "      <td>-8.542882e+00</td>\n",
       "      <td>0.000000</td>\n",
       "      <td>5.000000</td>\n",
       "      <td>2.000000</td>\n",
       "      <td>0.000000</td>\n",
       "      <td>0.000000</td>\n",
       "    </tr>\n",
       "    <tr>\n",
       "      <th>50%</th>\n",
       "      <td>0.000000</td>\n",
       "      <td>372.000000</td>\n",
       "      <td>34.911677</td>\n",
       "      <td>-5.011856e+00</td>\n",
       "      <td>0.000000</td>\n",
       "      <td>12.000000</td>\n",
       "      <td>3.000000</td>\n",
       "      <td>30.000000</td>\n",
       "      <td>1986.000000</td>\n",
       "    </tr>\n",
       "    <tr>\n",
       "      <th>75%</th>\n",
       "      <td>25.000000</td>\n",
       "      <td>1322.000000</td>\n",
       "      <td>37.185521</td>\n",
       "      <td>-3.326695e+00</td>\n",
       "      <td>0.000000</td>\n",
       "      <td>17.000000</td>\n",
       "      <td>5.000000</td>\n",
       "      <td>215.000000</td>\n",
       "      <td>2004.000000</td>\n",
       "    </tr>\n",
       "    <tr>\n",
       "      <th>max</th>\n",
       "      <td>350000.000000</td>\n",
       "      <td>2770.000000</td>\n",
       "      <td>40.344301</td>\n",
       "      <td>-2.000000e-08</td>\n",
       "      <td>755.000000</td>\n",
       "      <td>99.000000</td>\n",
       "      <td>80.000000</td>\n",
       "      <td>30500.000000</td>\n",
       "      <td>2013.000000</td>\n",
       "    </tr>\n",
       "  </tbody>\n",
       "</table>\n",
       "</div>"
      ],
      "text/plain": [
       "          amount_tsh    gps_height     longitude      latitude   num_private  \\\n",
       "count   44550.000000  44550.000000  44550.000000  4.455000e+04  44550.000000   \n",
       "mean      318.822752    670.416588     34.082528 -5.706236e+00      0.431089   \n",
       "std      3111.142639    694.095519      6.575687  2.946216e+00      8.075173   \n",
       "min         0.000000    -90.000000      0.000000 -1.164944e+01      0.000000   \n",
       "25%         0.000000      0.000000     33.094471 -8.542882e+00      0.000000   \n",
       "50%         0.000000    372.000000     34.911677 -5.011856e+00      0.000000   \n",
       "75%        25.000000   1322.000000     37.185521 -3.326695e+00      0.000000   \n",
       "max    350000.000000   2770.000000     40.344301 -2.000000e-08    755.000000   \n",
       "\n",
       "        region_code  district_code    population  construction_year  \n",
       "count  44550.000000   44550.000000  44550.000000       44550.000000  \n",
       "mean      15.304310       5.615354    180.985140        1304.546375  \n",
       "std       17.612218       9.607305    475.325989         950.383911  \n",
       "min        1.000000       0.000000      0.000000           0.000000  \n",
       "25%        5.000000       2.000000      0.000000           0.000000  \n",
       "50%       12.000000       3.000000     30.000000        1986.000000  \n",
       "75%       17.000000       5.000000    215.000000        2004.000000  \n",
       "max       99.000000      80.000000  30500.000000        2013.000000  "
      ]
     },
     "execution_count": 34,
     "metadata": {},
     "output_type": "execute_result"
    }
   ],
   "source": [
    "X_train.describe()"
   ]
  },
  {
   "cell_type": "code",
   "execution_count": 35,
   "id": "delayed-television",
   "metadata": {
    "execution": {
     "iopub.execute_input": "2021-06-22T02:57:57.094557Z",
     "iopub.status.busy": "2021-06-22T02:57:57.093878Z",
     "iopub.status.idle": "2021-06-22T02:57:57.116404Z",
     "shell.execute_reply": "2021-06-22T02:57:57.115619Z",
     "shell.execute_reply.started": "2021-06-22T02:43:51.653585Z"
    },
    "papermill": {
     "duration": 0.11256,
     "end_time": "2021-06-22T02:57:57.116604",
     "exception": false,
     "start_time": "2021-06-22T02:57:57.004044",
     "status": "completed"
    },
    "tags": []
   },
   "outputs": [
    {
     "name": "stderr",
     "output_type": "stream",
     "text": [
      "/opt/conda/lib/python3.7/site-packages/pandas/core/frame.py:4315: SettingWithCopyWarning: \n",
      "A value is trying to be set on a copy of a slice from a DataFrame\n",
      "\n",
      "See the caveats in the documentation: https://pandas.pydata.org/pandas-docs/stable/user_guide/indexing.html#returning-a-view-versus-a-copy\n",
      "  errors=errors,\n"
     ]
    }
   ],
   "source": [
    "#since latitude and longitude are rarely used to predict target variables, for now I will remove them from the train dataset.\n",
    "X_train.drop(['longitude','latitude'],axis=1,inplace=True)"
   ]
  },
  {
   "cell_type": "code",
   "execution_count": 36,
   "id": "useful-animal",
   "metadata": {
    "execution": {
     "iopub.execute_input": "2021-06-22T02:57:57.395914Z",
     "iopub.status.busy": "2021-06-22T02:57:57.294771Z",
     "iopub.status.idle": "2021-06-22T02:57:57.413917Z",
     "shell.execute_reply": "2021-06-22T02:57:57.413062Z",
     "shell.execute_reply.started": "2021-06-22T02:43:51.676971Z"
    },
    "papermill": {
     "duration": 0.211903,
     "end_time": "2021-06-22T02:57:57.414085",
     "exception": false,
     "start_time": "2021-06-22T02:57:57.202182",
     "status": "completed"
    },
    "tags": []
   },
   "outputs": [
    {
     "name": "stdout",
     "output_type": "stream",
     "text": [
      "<class 'pandas.core.frame.DataFrame'>\n",
      "Int64Index: 44550 entries, 2112 to 43585\n",
      "Data columns (total 34 columns):\n",
      " #   Column                 Non-Null Count  Dtype  \n",
      "---  ------                 --------------  -----  \n",
      " 0   amount_tsh             44550 non-null  float64\n",
      " 1   date_recorded          44550 non-null  object \n",
      " 2   funder                 44550 non-null  object \n",
      " 3   gps_height             44550 non-null  int64  \n",
      " 4   installer              44550 non-null  object \n",
      " 5   wpt_name               44550 non-null  object \n",
      " 6   num_private            44550 non-null  int64  \n",
      " 7   basin                  44550 non-null  object \n",
      " 8   subvillage             44550 non-null  object \n",
      " 9   region                 44550 non-null  object \n",
      " 10  region_code            44550 non-null  int64  \n",
      " 11  district_code          44550 non-null  int64  \n",
      " 12  lga                    44550 non-null  object \n",
      " 13  ward                   44550 non-null  object \n",
      " 14  population             44550 non-null  int64  \n",
      " 15  public_meeting         44550 non-null  bool   \n",
      " 16  scheme_management      44550 non-null  object \n",
      " 17  permit                 44550 non-null  bool   \n",
      " 18  construction_year      44550 non-null  int64  \n",
      " 19  extraction_type        44550 non-null  object \n",
      " 20  extraction_type_group  44550 non-null  object \n",
      " 21  extraction_type_class  44550 non-null  object \n",
      " 22  management             44550 non-null  object \n",
      " 23  management_group       44550 non-null  object \n",
      " 24  payment_type           44550 non-null  object \n",
      " 25  water_quality          44550 non-null  object \n",
      " 26  quality_group          44550 non-null  object \n",
      " 27  quantity               44550 non-null  object \n",
      " 28  source                 44550 non-null  object \n",
      " 29  source_type            44550 non-null  object \n",
      " 30  source_class           44550 non-null  object \n",
      " 31  waterpoint_type        44550 non-null  object \n",
      " 32  waterpoint_type_group  44550 non-null  object \n",
      " 33  pump_status            44550 non-null  object \n",
      "dtypes: bool(2), float64(1), int64(6), object(25)\n",
      "memory usage: 11.3+ MB\n"
     ]
    }
   ],
   "source": [
    "X_train.info()"
   ]
  },
  {
   "cell_type": "code",
   "execution_count": 37,
   "id": "humanitarian-second",
   "metadata": {
    "execution": {
     "iopub.execute_input": "2021-06-22T02:57:57.591293Z",
     "iopub.status.busy": "2021-06-22T02:57:57.590633Z",
     "iopub.status.idle": "2021-06-22T02:57:57.594188Z",
     "shell.execute_reply": "2021-06-22T02:57:57.593658Z",
     "shell.execute_reply.started": "2021-06-22T02:43:51.808838Z"
    },
    "papermill": {
     "duration": 0.097437,
     "end_time": "2021-06-22T02:57:57.594333",
     "exception": false,
     "start_time": "2021-06-22T02:57:57.496896",
     "status": "completed"
    },
    "tags": []
   },
   "outputs": [],
   "source": [
    "#function to plot a histogram\n",
    "def hist(x,xlabel,title,bins=None):\n",
    "    plt.hist(x,bins=bins)\n",
    "    plt.title(title,size=12)\n",
    "    plt.xlabel(xlabel,size=10)\n",
    "#function to plot correlation heatmaps\n",
    "def heatmap(df):\n",
    "    plt.figure(figsize=(10,6))\n",
    "    corr_matrix=df.corr()\n",
    "    sns.heatmap(corr_matrix)\n",
    "#function to plot countplot\n",
    "def count(data,x,hue,xlabel,title):\n",
    "    plt.title(title,size=12)\n",
    "    plt.xlabel(xlabel,size=10)\n",
    "    plt.xticks(rotation=45)\n",
    "    sns.countplot(x=x,data=data,hue=hue)\n",
    "#function to plot lmplot\n",
    "def lmplot(data,x,y,hue):\n",
    "    plt.figure(figsize=(10,6))\n",
    "    sns.lmplot(data=data,x=x,y=y,hue=hue,fit_reg=False)\n",
    "#function to plot a boxplot\n",
    "def boxplot(column,data,y=None):\n",
    "    plt.figure(figsize=(10,4))\n",
    "    sns.boxplot(x=column,data=data,y=y)"
   ]
  },
  {
   "cell_type": "markdown",
   "id": "cleared-university",
   "metadata": {
    "papermill": {
     "duration": 0.08411,
     "end_time": "2021-06-22T02:57:57.762418",
     "exception": false,
     "start_time": "2021-06-22T02:57:57.678308",
     "status": "completed"
    },
    "tags": []
   },
   "source": []
  },
  {
   "cell_type": "markdown",
   "id": "silent-tradition",
   "metadata": {
    "papermill": {
     "duration": 0.091616,
     "end_time": "2021-06-22T02:57:57.937122",
     "exception": false,
     "start_time": "2021-06-22T02:57:57.845506",
     "status": "completed"
    },
    "tags": []
   },
   "source": [
    "**Exploratory Data Analysis**"
   ]
  },
  {
   "cell_type": "code",
   "execution_count": 38,
   "id": "christian-amsterdam",
   "metadata": {
    "execution": {
     "iopub.execute_input": "2021-06-22T02:57:58.142416Z",
     "iopub.status.busy": "2021-06-22T02:57:58.141696Z",
     "iopub.status.idle": "2021-06-22T02:57:58.667158Z",
     "shell.execute_reply": "2021-06-22T02:57:58.667632Z",
     "shell.execute_reply.started": "2021-06-22T02:43:51.821674Z"
    },
    "papermill": {
     "duration": 0.635503,
     "end_time": "2021-06-22T02:57:58.667863",
     "exception": false,
     "start_time": "2021-06-22T02:57:58.032360",
     "status": "completed"
    },
    "tags": []
   },
   "outputs": [
    {
     "data": {
      "image/png": "[encoded data removed]",
      "text/plain": [
       "<Figure size 432x288 with 4 Axes>"
      ]
     },
     "metadata": {
      "needs_background": "light"
     },
     "output_type": "display_data"
    }
   ],
   "source": [
    "num_cols=['amount_tsh','gps_height','num_private','population']\n",
    "plt.subplot(2,2,1)\n",
    "hist(X_train['amount_tsh'],'Amount of water available','Distribution',np.arange(0,7000,600))\n",
    "plt.subplot(2,2,2)\n",
    "hist(X_train['gps_height'],'Altitude of each well','Distribution')\n",
    "plt.subplot(2,2,3)\n",
    "hist(X_train['num_private'],None,'Distribution')\n",
    "plt.subplot(2,2,4)\n",
    "hist(X_train['population'],'Population around the water pump','Distribution')\n",
    "plt.subplots_adjust(left=0.1,\n",
    "                    bottom=0.1, \n",
    "                    right=0.9, \n",
    "                    top=1.1, \n",
    "                    wspace=0.4, \n",
    "                    hspace=0.4)"
   ]
  },
  {
   "cell_type": "markdown",
   "id": "amino-viking",
   "metadata": {
    "papermill": {
     "duration": 0.084182,
     "end_time": "2021-06-22T02:57:58.838908",
     "exception": false,
     "start_time": "2021-06-22T02:57:58.754726",
     "status": "completed"
    },
    "tags": []
   },
   "source": [
    "All 4 numerical variables are extremely right skewed."
   ]
  },
  {
   "cell_type": "code",
   "execution_count": 39,
   "id": "adjacent-sixth",
   "metadata": {
    "execution": {
     "iopub.execute_input": "2021-06-22T02:57:59.015124Z",
     "iopub.status.busy": "2021-06-22T02:57:59.014425Z",
     "iopub.status.idle": "2021-06-22T02:57:59.023049Z",
     "shell.execute_reply": "2021-06-22T02:57:59.023621Z",
     "shell.execute_reply.started": "2021-06-22T02:43:52.531678Z"
    },
    "papermill": {
     "duration": 0.100213,
     "end_time": "2021-06-22T02:57:59.023840",
     "exception": false,
     "start_time": "2021-06-22T02:57:58.923627",
     "status": "completed"
    },
    "tags": []
   },
   "outputs": [
    {
     "name": "stdout",
     "output_type": "stream",
     "text": [
      "Skew for amount_tsh = 62.22281339045965\n",
      "Skew for gps_height = 0.460176685044095\n",
      "Skew for num_private = 53.95285335544115\n",
      "Skew for population = 13.213702018766114\n"
     ]
    }
   ],
   "source": [
    "for col in num_cols:\n",
    "    sk=skew(X_train[col],bias=False)\n",
    "    print(\"Skew for\"+\" \"+col+\" = \"+str(sk))"
   ]
  },
  {
   "cell_type": "code",
   "execution_count": 40,
   "id": "numerous-might",
   "metadata": {
    "execution": {
     "iopub.execute_input": "2021-06-22T02:57:59.200789Z",
     "iopub.status.busy": "2021-06-22T02:57:59.200160Z",
     "iopub.status.idle": "2021-06-22T02:58:00.275559Z",
     "shell.execute_reply": "2021-06-22T02:58:00.276082Z",
     "shell.execute_reply.started": "2021-06-22T02:43:52.544829Z"
    },
    "papermill": {
     "duration": 1.165527,
     "end_time": "2021-06-22T02:58:00.276298",
     "exception": false,
     "start_time": "2021-06-22T02:57:59.110771",
     "status": "completed"
    },
    "tags": []
   },
   "outputs": [
    {
     "data": {
      "image/png": "[encoded data removed]",
      "text/plain": [
       "<Figure size 720x288 with 1 Axes>"
      ]
     },
     "metadata": {
      "needs_background": "light"
     },
     "output_type": "display_data"
    },
    {
     "data": {
      "image/png": "[encoded data removed]",
      "text/plain": [
       "<Figure size 720x288 with 1 Axes>"
      ]
     },
     "metadata": {
      "needs_background": "light"
     },
     "output_type": "display_data"
    },
    {
     "data": {
      "image/png": "[encoded data removed]",
      "text/plain": [
       "<Figure size 720x288 with 1 Axes>"
      ]
     },
     "metadata": {
      "needs_background": "light"
     },
     "output_type": "display_data"
    },
    {
     "data": {
      "image/png": "[encoded data removed]",
      "text/plain": [
       "<Figure size 720x288 with 1 Axes>"
      ]
     },
     "metadata": {
      "needs_background": "light"
     },
     "output_type": "display_data"
    }
   ],
   "source": [
    "for col in num_cols:\n",
    "    boxplot(col,X_train,X_train['pump_status'])"
   ]
  },
  {
   "cell_type": "markdown",
   "id": "dried-swiss",
   "metadata": {
    "papermill": {
     "duration": 0.087906,
     "end_time": "2021-06-22T02:58:00.453788",
     "exception": false,
     "start_time": "2021-06-22T02:58:00.365882",
     "status": "completed"
    },
    "tags": []
   },
   "source": [
    "No significant relationship exists between the 4 numerical columns and the pump status. Moreover there are a lot of outliers that may hamper the classification models accuracy.Hence, we drop these 4 columns from the training dataset."
   ]
  },
  {
   "cell_type": "code",
   "execution_count": 41,
   "id": "closing-latvia",
   "metadata": {
    "execution": {
     "iopub.execute_input": "2021-06-22T02:58:00.709602Z",
     "iopub.status.busy": "2021-06-22T02:58:00.708906Z",
     "iopub.status.idle": "2021-06-22T02:58:00.724397Z",
     "shell.execute_reply": "2021-06-22T02:58:00.725131Z",
     "shell.execute_reply.started": "2021-06-22T02:43:53.463466Z"
    },
    "papermill": {
     "duration": 0.183377,
     "end_time": "2021-06-22T02:58:00.725401",
     "exception": false,
     "start_time": "2021-06-22T02:58:00.542024",
     "status": "completed"
    },
    "tags": []
   },
   "outputs": [
    {
     "name": "stderr",
     "output_type": "stream",
     "text": [
      "/opt/conda/lib/python3.7/site-packages/pandas/core/frame.py:4315: SettingWithCopyWarning: \n",
      "A value is trying to be set on a copy of a slice from a DataFrame\n",
      "\n",
      "See the caveats in the documentation: https://pandas.pydata.org/pandas-docs/stable/user_guide/indexing.html#returning-a-view-versus-a-copy\n",
      "  errors=errors,\n"
     ]
    }
   ],
   "source": [
    "X_train.drop(num_cols,axis=1,inplace=True)"
   ]
  },
  {
   "cell_type": "code",
   "execution_count": 42,
   "id": "specialized-benefit",
   "metadata": {
    "execution": {
     "iopub.execute_input": "2021-06-22T02:58:00.910409Z",
     "iopub.status.busy": "2021-06-22T02:58:00.909667Z",
     "iopub.status.idle": "2021-06-22T02:58:00.920324Z",
     "shell.execute_reply": "2021-06-22T02:58:00.919734Z",
     "shell.execute_reply.started": "2021-06-22T02:43:53.484032Z"
    },
    "papermill": {
     "duration": 0.102013,
     "end_time": "2021-06-22T02:58:00.920479",
     "exception": false,
     "start_time": "2021-06-22T02:58:00.818466",
     "status": "completed"
    },
    "tags": []
   },
   "outputs": [],
   "source": [
    "X_holdout.drop(num_cols,axis=1,inplace=True)"
   ]
  },
  {
   "cell_type": "code",
   "execution_count": 43,
   "id": "linear-tunisia",
   "metadata": {
    "execution": {
     "iopub.execute_input": "2021-06-22T02:58:01.103792Z",
     "iopub.status.busy": "2021-06-22T02:58:01.102853Z",
     "iopub.status.idle": "2021-06-22T02:58:01.110566Z",
     "shell.execute_reply": "2021-06-22T02:58:01.111082Z",
     "shell.execute_reply.started": "2021-06-22T02:43:53.494706Z"
    },
    "papermill": {
     "duration": 0.101588,
     "end_time": "2021-06-22T02:58:01.111258",
     "exception": false,
     "start_time": "2021-06-22T02:58:01.009670",
     "status": "completed"
    },
    "tags": []
   },
   "outputs": [],
   "source": [
    "X_holdout.drop(['longitude','latitude'],axis=1,inplace=True)"
   ]
  },
  {
   "cell_type": "code",
   "execution_count": 44,
   "id": "proper-folder",
   "metadata": {
    "execution": {
     "iopub.execute_input": "2021-06-22T02:58:01.315778Z",
     "iopub.status.busy": "2021-06-22T02:58:01.314835Z",
     "iopub.status.idle": "2021-06-22T02:58:01.320097Z",
     "shell.execute_reply": "2021-06-22T02:58:01.319503Z",
     "shell.execute_reply.started": "2021-06-22T02:43:53.511146Z"
    },
    "papermill": {
     "duration": 0.120689,
     "end_time": "2021-06-22T02:58:01.320257",
     "exception": false,
     "start_time": "2021-06-22T02:58:01.199568",
     "status": "completed"
    },
    "tags": []
   },
   "outputs": [
    {
     "data": {
      "text/html": [
       "<div>\n",
       "<style scoped>\n",
       "    .dataframe tbody tr th:only-of-type {\n",
       "        vertical-align: middle;\n",
       "    }\n",
       "\n",
       "    .dataframe tbody tr th {\n",
       "        vertical-align: top;\n",
       "    }\n",
       "\n",
       "    .dataframe thead th {\n",
       "        text-align: right;\n",
       "    }\n",
       "</style>\n",
       "<table border=\"1\" class=\"dataframe\">\n",
       "  <thead>\n",
       "    <tr style=\"text-align: right;\">\n",
       "      <th></th>\n",
       "      <th>date_recorded</th>\n",
       "      <th>funder</th>\n",
       "      <th>installer</th>\n",
       "      <th>wpt_name</th>\n",
       "      <th>basin</th>\n",
       "      <th>subvillage</th>\n",
       "      <th>region</th>\n",
       "      <th>region_code</th>\n",
       "      <th>district_code</th>\n",
       "      <th>lga</th>\n",
       "      <th>...</th>\n",
       "      <th>payment_type</th>\n",
       "      <th>water_quality</th>\n",
       "      <th>quality_group</th>\n",
       "      <th>quantity</th>\n",
       "      <th>source</th>\n",
       "      <th>source_type</th>\n",
       "      <th>source_class</th>\n",
       "      <th>waterpoint_type</th>\n",
       "      <th>waterpoint_type_group</th>\n",
       "      <th>pump_status</th>\n",
       "    </tr>\n",
       "    <tr>\n",
       "      <th>id</th>\n",
       "      <th></th>\n",
       "      <th></th>\n",
       "      <th></th>\n",
       "      <th></th>\n",
       "      <th></th>\n",
       "      <th></th>\n",
       "      <th></th>\n",
       "      <th></th>\n",
       "      <th></th>\n",
       "      <th></th>\n",
       "      <th></th>\n",
       "      <th></th>\n",
       "      <th></th>\n",
       "      <th></th>\n",
       "      <th></th>\n",
       "      <th></th>\n",
       "      <th></th>\n",
       "      <th></th>\n",
       "      <th></th>\n",
       "      <th></th>\n",
       "      <th></th>\n",
       "    </tr>\n",
       "  </thead>\n",
       "  <tbody>\n",
       "    <tr>\n",
       "      <th>2112</th>\n",
       "      <td>2011-03-14</td>\n",
       "      <td>Amref</td>\n",
       "      <td>AMREF</td>\n",
       "      <td>Kwa Manyei</td>\n",
       "      <td>Rufiji</td>\n",
       "      <td>Mahingi</td>\n",
       "      <td>Pwani</td>\n",
       "      <td>6</td>\n",
       "      <td>2</td>\n",
       "      <td>Mkuranga</td>\n",
       "      <td>...</td>\n",
       "      <td>never pay</td>\n",
       "      <td>soft</td>\n",
       "      <td>good</td>\n",
       "      <td>enough</td>\n",
       "      <td>shallow well</td>\n",
       "      <td>shallow well</td>\n",
       "      <td>groundwater</td>\n",
       "      <td>hand pump</td>\n",
       "      <td>hand pump</td>\n",
       "      <td>non functional</td>\n",
       "    </tr>\n",
       "    <tr>\n",
       "      <th>49195</th>\n",
       "      <td>2013-03-21</td>\n",
       "      <td>0</td>\n",
       "      <td>0</td>\n",
       "      <td>Mlele</td>\n",
       "      <td>Wami / Ruvu</td>\n",
       "      <td>Mabwepande</td>\n",
       "      <td>Dar es Salaam</td>\n",
       "      <td>7</td>\n",
       "      <td>1</td>\n",
       "      <td>Kinondoni</td>\n",
       "      <td>...</td>\n",
       "      <td>never pay</td>\n",
       "      <td>soft</td>\n",
       "      <td>good</td>\n",
       "      <td>enough</td>\n",
       "      <td>machine dbh</td>\n",
       "      <td>borehole</td>\n",
       "      <td>groundwater</td>\n",
       "      <td>communal standpipe</td>\n",
       "      <td>communal standpipe</td>\n",
       "      <td>non functional</td>\n",
       "    </tr>\n",
       "    <tr>\n",
       "      <th>30131</th>\n",
       "      <td>2011-02-18</td>\n",
       "      <td>Arab Community</td>\n",
       "      <td>Arab community</td>\n",
       "      <td>Zunguni</td>\n",
       "      <td>Wami / Ruvu</td>\n",
       "      <td>Zunguni</td>\n",
       "      <td>Pwani</td>\n",
       "      <td>60</td>\n",
       "      <td>33</td>\n",
       "      <td>Kisarawe</td>\n",
       "      <td>...</td>\n",
       "      <td>never pay</td>\n",
       "      <td>soft</td>\n",
       "      <td>good</td>\n",
       "      <td>enough</td>\n",
       "      <td>shallow well</td>\n",
       "      <td>shallow well</td>\n",
       "      <td>groundwater</td>\n",
       "      <td>hand pump</td>\n",
       "      <td>hand pump</td>\n",
       "      <td>non functional</td>\n",
       "    </tr>\n",
       "    <tr>\n",
       "      <th>26428</th>\n",
       "      <td>2013-01-16</td>\n",
       "      <td>Wateraid</td>\n",
       "      <td>SEMA</td>\n",
       "      <td>Kibuli</td>\n",
       "      <td>Lake Tanganyika</td>\n",
       "      <td>Kibuli</td>\n",
       "      <td>Tabora</td>\n",
       "      <td>14</td>\n",
       "      <td>1</td>\n",
       "      <td>Nzega</td>\n",
       "      <td>...</td>\n",
       "      <td>on failure</td>\n",
       "      <td>soft</td>\n",
       "      <td>good</td>\n",
       "      <td>enough</td>\n",
       "      <td>machine dbh</td>\n",
       "      <td>borehole</td>\n",
       "      <td>groundwater</td>\n",
       "      <td>hand pump</td>\n",
       "      <td>hand pump</td>\n",
       "      <td>functional</td>\n",
       "    </tr>\n",
       "    <tr>\n",
       "      <th>56870</th>\n",
       "      <td>2012-10-13</td>\n",
       "      <td>Dwe</td>\n",
       "      <td>DWE</td>\n",
       "      <td>Shuleni</td>\n",
       "      <td>Lake Tanganyika</td>\n",
       "      <td>Misheni Kati</td>\n",
       "      <td>Tabora</td>\n",
       "      <td>14</td>\n",
       "      <td>4</td>\n",
       "      <td>Urambo</td>\n",
       "      <td>...</td>\n",
       "      <td>never pay</td>\n",
       "      <td>soft</td>\n",
       "      <td>good</td>\n",
       "      <td>enough</td>\n",
       "      <td>dam</td>\n",
       "      <td>dam</td>\n",
       "      <td>surface</td>\n",
       "      <td>communal standpipe</td>\n",
       "      <td>communal standpipe</td>\n",
       "      <td>functional</td>\n",
       "    </tr>\n",
       "  </tbody>\n",
       "</table>\n",
       "<p>5 rows × 30 columns</p>\n",
       "</div>"
      ],
      "text/plain": [
       "      date_recorded          funder       installer    wpt_name  \\\n",
       "id                                                                \n",
       "2112     2011-03-14           Amref           AMREF  Kwa Manyei   \n",
       "49195    2013-03-21               0               0       Mlele   \n",
       "30131    2011-02-18  Arab Community  Arab community     Zunguni   \n",
       "26428    2013-01-16        Wateraid            SEMA      Kibuli   \n",
       "56870    2012-10-13             Dwe             DWE     Shuleni   \n",
       "\n",
       "                 basin    subvillage         region  region_code  \\\n",
       "id                                                                 \n",
       "2112            Rufiji       Mahingi          Pwani            6   \n",
       "49195      Wami / Ruvu    Mabwepande  Dar es Salaam            7   \n",
       "30131      Wami / Ruvu       Zunguni          Pwani           60   \n",
       "26428  Lake Tanganyika        Kibuli         Tabora           14   \n",
       "56870  Lake Tanganyika  Misheni Kati         Tabora           14   \n",
       "\n",
       "       district_code        lga  ... payment_type  water_quality  \\\n",
       "id                               ...                               \n",
       "2112               2   Mkuranga  ...    never pay           soft   \n",
       "49195              1  Kinondoni  ...    never pay           soft   \n",
       "30131             33   Kisarawe  ...    never pay           soft   \n",
       "26428              1      Nzega  ...   on failure           soft   \n",
       "56870              4     Urambo  ...    never pay           soft   \n",
       "\n",
       "      quality_group  quantity        source   source_type source_class  \\\n",
       "id                                                                       \n",
       "2112           good    enough  shallow well  shallow well  groundwater   \n",
       "49195          good    enough   machine dbh      borehole  groundwater   \n",
       "30131          good    enough  shallow well  shallow well  groundwater   \n",
       "26428          good    enough   machine dbh      borehole  groundwater   \n",
       "56870          good    enough           dam           dam      surface   \n",
       "\n",
       "          waterpoint_type waterpoint_type_group     pump_status  \n",
       "id                                                               \n",
       "2112            hand pump             hand pump  non functional  \n",
       "49195  communal standpipe    communal standpipe  non functional  \n",
       "30131           hand pump             hand pump  non functional  \n",
       "26428           hand pump             hand pump      functional  \n",
       "56870  communal standpipe    communal standpipe      functional  \n",
       "\n",
       "[5 rows x 30 columns]"
      ]
     },
     "execution_count": 44,
     "metadata": {},
     "output_type": "execute_result"
    }
   ],
   "source": [
    "X_train.head()"
   ]
  },
  {
   "cell_type": "code",
   "execution_count": 45,
   "id": "infectious-frequency",
   "metadata": {
    "execution": {
     "iopub.execute_input": "2021-06-22T02:58:01.503430Z",
     "iopub.status.busy": "2021-06-22T02:58:01.502748Z",
     "iopub.status.idle": "2021-06-22T02:58:01.532037Z",
     "shell.execute_reply": "2021-06-22T02:58:01.532478Z",
     "shell.execute_reply.started": "2021-06-22T02:43:53.539434Z"
    },
    "papermill": {
     "duration": 0.124008,
     "end_time": "2021-06-22T02:58:01.532668",
     "exception": false,
     "start_time": "2021-06-22T02:58:01.408660",
     "status": "completed"
    },
    "tags": []
   },
   "outputs": [
    {
     "name": "stderr",
     "output_type": "stream",
     "text": [
      "/opt/conda/lib/python3.7/site-packages/pandas/core/frame.py:4315: SettingWithCopyWarning: \n",
      "A value is trying to be set on a copy of a slice from a DataFrame\n",
      "\n",
      "See the caveats in the documentation: https://pandas.pydata.org/pandas-docs/stable/user_guide/indexing.html#returning-a-view-versus-a-copy\n",
      "  errors=errors,\n"
     ]
    }
   ],
   "source": [
    "data=[X_train,X_holdout,final_test_val]\n",
    "for df in data:\n",
    "    df.drop(['waterpoint_type_group'],axis=1,inplace=True)"
   ]
  },
  {
   "cell_type": "code",
   "execution_count": 46,
   "id": "finite-franchise",
   "metadata": {
    "execution": {
     "iopub.execute_input": "2021-06-22T02:58:01.729651Z",
     "iopub.status.busy": "2021-06-22T02:58:01.729023Z",
     "iopub.status.idle": "2021-06-22T02:58:01.749481Z",
     "shell.execute_reply": "2021-06-22T02:58:01.749921Z",
     "shell.execute_reply.started": "2021-06-22T02:43:53.570720Z"
    },
    "papermill": {
     "duration": 0.126794,
     "end_time": "2021-06-22T02:58:01.750118",
     "exception": false,
     "start_time": "2021-06-22T02:58:01.623324",
     "status": "completed"
    },
    "tags": []
   },
   "outputs": [
    {
     "name": "stderr",
     "output_type": "stream",
     "text": [
      "/opt/conda/lib/python3.7/site-packages/pandas/core/series.py:4515: SettingWithCopyWarning: \n",
      "A value is trying to be set on a copy of a slice from a DataFrame\n",
      "\n",
      "See the caveats in the documentation: https://pandas.pydata.org/pandas-docs/stable/user_guide/indexing.html#returning-a-view-versus-a-copy\n",
      "  method=method,\n"
     ]
    }
   ],
   "source": [
    "for df in data:\n",
    "    df['management_group'].replace(to_replace=['unknown','parastatal'],value=['other','other'],inplace=True)    "
   ]
  },
  {
   "cell_type": "code",
   "execution_count": 47,
   "id": "civic-observer",
   "metadata": {
    "execution": {
     "iopub.execute_input": "2021-06-22T02:58:01.942252Z",
     "iopub.status.busy": "2021-06-22T02:58:01.941608Z",
     "iopub.status.idle": "2021-06-22T02:58:01.963535Z",
     "shell.execute_reply": "2021-06-22T02:58:01.962841Z",
     "shell.execute_reply.started": "2021-06-22T02:43:53.598597Z"
    },
    "papermill": {
     "duration": 0.124269,
     "end_time": "2021-06-22T02:58:01.963696",
     "exception": false,
     "start_time": "2021-06-22T02:58:01.839427",
     "status": "completed"
    },
    "tags": []
   },
   "outputs": [
    {
     "data": {
      "text/plain": [
       "array(['hand pump', 'communal standpipe', 'other',\n",
       "       'communal standpipe multiple', 'unknown', 'dam'], dtype=object)"
      ]
     },
     "execution_count": 47,
     "metadata": {},
     "output_type": "execute_result"
    }
   ],
   "source": [
    "for df in data:\n",
    "    df['waterpoint_type'].replace(to_replace=['cattle trough','improved spring'],value=['unknown','unknown'],inplace=True)\n",
    "X_train['waterpoint_type'].unique()"
   ]
  },
  {
   "cell_type": "code",
   "execution_count": 48,
   "id": "peripheral-mason",
   "metadata": {
    "execution": {
     "iopub.execute_input": "2021-06-22T02:58:02.155507Z",
     "iopub.status.busy": "2021-06-22T02:58:02.154795Z",
     "iopub.status.idle": "2021-06-22T02:58:02.174096Z",
     "shell.execute_reply": "2021-06-22T02:58:02.174598Z",
     "shell.execute_reply.started": "2021-06-22T02:43:53.630261Z"
    },
    "papermill": {
     "duration": 0.121183,
     "end_time": "2021-06-22T02:58:02.174799",
     "exception": false,
     "start_time": "2021-06-22T02:58:02.053616",
     "status": "completed"
    },
    "tags": []
   },
   "outputs": [
    {
     "data": {
      "text/plain": [
       "array(['handpump', 'submersible', 'other', 'gravity', 'rope pump',\n",
       "       'wind-powered'], dtype=object)"
      ]
     },
     "execution_count": 48,
     "metadata": {},
     "output_type": "execute_result"
    }
   ],
   "source": [
    "for df in data:\n",
    "    df['extraction_type_class'].replace(to_replace=['motorpump','other'],value=['other','other'],inplace=True)\n",
    "X_train['extraction_type_class'].unique()"
   ]
  },
  {
   "cell_type": "code",
   "execution_count": 49,
   "id": "virtual-assumption",
   "metadata": {
    "execution": {
     "iopub.execute_input": "2021-06-22T02:58:02.360293Z",
     "iopub.status.busy": "2021-06-22T02:58:02.359587Z",
     "iopub.status.idle": "2021-06-22T02:58:02.383294Z",
     "shell.execute_reply": "2021-06-22T02:58:02.382637Z",
     "shell.execute_reply.started": "2021-06-22T02:43:53.660487Z"
    },
    "papermill": {
     "duration": 0.117768,
     "end_time": "2021-06-22T02:58:02.383448",
     "exception": false,
     "start_time": "2021-06-22T02:58:02.265680",
     "status": "completed"
    },
    "tags": []
   },
   "outputs": [
    {
     "data": {
      "text/plain": [
       "array(['good', 'salty', 'colored', 'unknown', 'fluoride'], dtype=object)"
      ]
     },
     "execution_count": 49,
     "metadata": {},
     "output_type": "execute_result"
    }
   ],
   "source": [
    "for df in data:\n",
    "     df['quality_group'].replace(to_replace=['milky'],value=['colored'],inplace=True) \n",
    "X_train['quality_group'].unique()        "
   ]
  },
  {
   "cell_type": "code",
   "execution_count": 50,
   "id": "stretch-cleaning",
   "metadata": {
    "execution": {
     "iopub.execute_input": "2021-06-22T02:58:02.574411Z",
     "iopub.status.busy": "2021-06-22T02:58:02.573719Z",
     "iopub.status.idle": "2021-06-22T02:58:02.593199Z",
     "shell.execute_reply": "2021-06-22T02:58:02.593669Z",
     "shell.execute_reply.started": "2021-06-22T02:43:53.686958Z"
    },
    "papermill": {
     "duration": 0.1198,
     "end_time": "2021-06-22T02:58:02.593850",
     "exception": false,
     "start_time": "2021-06-22T02:58:02.474050",
     "status": "completed"
    },
    "tags": []
   },
   "outputs": [
    {
     "data": {
      "text/plain": [
       "array(['shallow well', 'borehole', 'other', 'river/lake',\n",
       "       'rainwater harvesting', 'spring'], dtype=object)"
      ]
     },
     "execution_count": 50,
     "metadata": {},
     "output_type": "execute_result"
    }
   ],
   "source": [
    "for df in data:\n",
    "    df['source_type'].replace(to_replace=['other','dam'],value=['other','other'],inplace=True)\n",
    "X_train['source_type'].unique()    "
   ]
  },
  {
   "cell_type": "code",
   "execution_count": 51,
   "id": "ethical-remains",
   "metadata": {
    "execution": {
     "iopub.execute_input": "2021-06-22T02:58:02.779021Z",
     "iopub.status.busy": "2021-06-22T02:58:02.778340Z",
     "iopub.status.idle": "2021-06-22T02:58:03.905405Z",
     "shell.execute_reply": "2021-06-22T02:58:03.906208Z",
     "shell.execute_reply.started": "2021-06-22T02:43:53.716601Z"
    },
    "papermill": {
     "duration": 1.221927,
     "end_time": "2021-06-22T02:58:03.906491",
     "exception": false,
     "start_time": "2021-06-22T02:58:02.684564",
     "status": "completed"
    },
    "tags": []
   },
   "outputs": [
    {
     "data": {
      "image/png": "[encoded data removed]",
      "text/plain": [
       "<Figure size 432x288 with 4 Axes>"
      ]
     },
     "metadata": {
      "needs_background": "light"
     },
     "output_type": "display_data"
    }
   ],
   "source": [
    "cat_cols=['basin','public_meeting','permit','extraction_type_class']\n",
    "i=1\n",
    "while i<=4:\n",
    "    for col in cat_cols:\n",
    "        plt.subplot(2,2,i)\n",
    "        count(X_train,col,'pump_status',col,col+\" relationship with pump_status\")\n",
    "        i=i+1\n",
    "plt.subplots_adjust(left=0.1,\n",
    "                    bottom=0.1, \n",
    "                    right=1.3, \n",
    "                    top=2.2, \n",
    "                    wspace=0.4, \n",
    "                    hspace=0.4)        "
   ]
  },
  {
   "cell_type": "markdown",
   "id": "accepted-sullivan",
   "metadata": {
    "papermill": {
     "duration": 0.105485,
     "end_time": "2021-06-22T02:58:04.120104",
     "exception": false,
     "start_time": "2021-06-22T02:58:04.014619",
     "status": "completed"
    },
    "tags": []
   },
   "source": [
    "All 4 variables provide a decent insight into what pump is operational, non-functional and functional+needs repair. So we keep them as features."
   ]
  },
  {
   "cell_type": "code",
   "execution_count": 52,
   "id": "innovative-video",
   "metadata": {
    "execution": {
     "iopub.execute_input": "2021-06-22T02:58:04.376264Z",
     "iopub.status.busy": "2021-06-22T02:58:04.375247Z",
     "iopub.status.idle": "2021-06-22T02:58:05.569225Z",
     "shell.execute_reply": "2021-06-22T02:58:05.568663Z",
     "shell.execute_reply.started": "2021-06-22T02:43:54.870074Z"
    },
    "papermill": {
     "duration": 1.351447,
     "end_time": "2021-06-22T02:58:05.569393",
     "exception": false,
     "start_time": "2021-06-22T02:58:04.217946",
     "status": "completed"
    },
    "tags": []
   },
   "outputs": [
    {
     "data": {
      "image/png": "[encoded data removed]",
      "text/plain": [
       "<Figure size 432x288 with 4 Axes>"
      ]
     },
     "metadata": {
      "needs_background": "light"
     },
     "output_type": "display_data"
    }
   ],
   "source": [
    "cat_cols1=['quality_group','source_class','source_type','waterpoint_type']\n",
    "i=1\n",
    "while i<=4:\n",
    "    for col in cat_cols1:\n",
    "        plt.subplot(2,2,i)\n",
    "        count(X_train,col,'pump_status',col,col+\" relationship with pump_status\")\n",
    "        i=i+1\n",
    "plt.subplots_adjust(left=0.1,\n",
    "                    bottom=0.1, \n",
    "                    right=1.5, \n",
    "                    top=2, \n",
    "                    wspace=0.4, \n",
    "                    hspace=0.4)      "
   ]
  },
  {
   "cell_type": "markdown",
   "id": "meaning-lincoln",
   "metadata": {
    "papermill": {
     "duration": 0.098383,
     "end_time": "2021-06-22T02:58:05.767807",
     "exception": false,
     "start_time": "2021-06-22T02:58:05.669424",
     "status": "completed"
    },
    "tags": []
   },
   "source": [
    "Again, none of these columns can be excluded from the data."
   ]
  },
  {
   "cell_type": "code",
   "execution_count": 53,
   "id": "variable-greek",
   "metadata": {
    "execution": {
     "iopub.execute_input": "2021-06-22T02:58:05.995034Z",
     "iopub.status.busy": "2021-06-22T02:58:05.978622Z",
     "iopub.status.idle": "2021-06-22T02:58:06.575157Z",
     "shell.execute_reply": "2021-06-22T02:58:06.575604Z",
     "shell.execute_reply.started": "2021-06-22T02:43:56.195832Z"
    },
    "papermill": {
     "duration": 0.705844,
     "end_time": "2021-06-22T02:58:06.575812",
     "exception": false,
     "start_time": "2021-06-22T02:58:05.869968",
     "status": "completed"
    },
    "tags": []
   },
   "outputs": [
    {
     "data": {
      "image/png": "[encoded data removed]",
      "text/plain": [
       "<Figure size 432x288 with 2 Axes>"
      ]
     },
     "metadata": {
      "needs_background": "light"
     },
     "output_type": "display_data"
    }
   ],
   "source": [
    "cat_cols2=['management_group','payment_type']\n",
    "i=1\n",
    "while i<=2:\n",
    "    for col in cat_cols2:\n",
    "        plt.subplot(2,1,i)\n",
    "        count(X_train,col,'pump_status',col,col+\" relationship with pump_status\")\n",
    "        i=i+1\n",
    "plt.subplots_adjust(left=0.1,\n",
    "                    bottom=0.1, \n",
    "                    right=0.9, \n",
    "                    top=1.9, \n",
    "                    wspace=0.4, \n",
    "                    hspace=0.4)      "
   ]
  },
  {
   "cell_type": "code",
   "execution_count": 54,
   "id": "republican-guidance",
   "metadata": {
    "execution": {
     "iopub.execute_input": "2021-06-22T02:58:06.801133Z",
     "iopub.status.busy": "2021-06-22T02:58:06.800433Z",
     "iopub.status.idle": "2021-06-22T02:58:06.805010Z",
     "shell.execute_reply": "2021-06-22T02:58:06.805458Z",
     "shell.execute_reply.started": "2021-06-22T02:43:56.825415Z"
    },
    "papermill": {
     "duration": 0.132563,
     "end_time": "2021-06-22T02:58:06.805659",
     "exception": false,
     "start_time": "2021-06-22T02:58:06.673096",
     "status": "completed"
    },
    "tags": []
   },
   "outputs": [
    {
     "data": {
      "text/html": [
       "<div>\n",
       "<style scoped>\n",
       "    .dataframe tbody tr th:only-of-type {\n",
       "        vertical-align: middle;\n",
       "    }\n",
       "\n",
       "    .dataframe tbody tr th {\n",
       "        vertical-align: top;\n",
       "    }\n",
       "\n",
       "    .dataframe thead th {\n",
       "        text-align: right;\n",
       "    }\n",
       "</style>\n",
       "<table border=\"1\" class=\"dataframe\">\n",
       "  <thead>\n",
       "    <tr style=\"text-align: right;\">\n",
       "      <th></th>\n",
       "      <th>date_recorded</th>\n",
       "      <th>funder</th>\n",
       "      <th>installer</th>\n",
       "      <th>wpt_name</th>\n",
       "      <th>basin</th>\n",
       "      <th>subvillage</th>\n",
       "      <th>region</th>\n",
       "      <th>region_code</th>\n",
       "      <th>district_code</th>\n",
       "      <th>lga</th>\n",
       "      <th>...</th>\n",
       "      <th>management_group</th>\n",
       "      <th>payment_type</th>\n",
       "      <th>water_quality</th>\n",
       "      <th>quality_group</th>\n",
       "      <th>quantity</th>\n",
       "      <th>source</th>\n",
       "      <th>source_type</th>\n",
       "      <th>source_class</th>\n",
       "      <th>waterpoint_type</th>\n",
       "      <th>pump_status</th>\n",
       "    </tr>\n",
       "    <tr>\n",
       "      <th>id</th>\n",
       "      <th></th>\n",
       "      <th></th>\n",
       "      <th></th>\n",
       "      <th></th>\n",
       "      <th></th>\n",
       "      <th></th>\n",
       "      <th></th>\n",
       "      <th></th>\n",
       "      <th></th>\n",
       "      <th></th>\n",
       "      <th></th>\n",
       "      <th></th>\n",
       "      <th></th>\n",
       "      <th></th>\n",
       "      <th></th>\n",
       "      <th></th>\n",
       "      <th></th>\n",
       "      <th></th>\n",
       "      <th></th>\n",
       "      <th></th>\n",
       "      <th></th>\n",
       "    </tr>\n",
       "  </thead>\n",
       "  <tbody>\n",
       "    <tr>\n",
       "      <th>2112</th>\n",
       "      <td>2011-03-14</td>\n",
       "      <td>Amref</td>\n",
       "      <td>AMREF</td>\n",
       "      <td>Kwa Manyei</td>\n",
       "      <td>Rufiji</td>\n",
       "      <td>Mahingi</td>\n",
       "      <td>Pwani</td>\n",
       "      <td>6</td>\n",
       "      <td>2</td>\n",
       "      <td>Mkuranga</td>\n",
       "      <td>...</td>\n",
       "      <td>user-group</td>\n",
       "      <td>never pay</td>\n",
       "      <td>soft</td>\n",
       "      <td>good</td>\n",
       "      <td>enough</td>\n",
       "      <td>shallow well</td>\n",
       "      <td>shallow well</td>\n",
       "      <td>groundwater</td>\n",
       "      <td>hand pump</td>\n",
       "      <td>non functional</td>\n",
       "    </tr>\n",
       "    <tr>\n",
       "      <th>49195</th>\n",
       "      <td>2013-03-21</td>\n",
       "      <td>0</td>\n",
       "      <td>0</td>\n",
       "      <td>Mlele</td>\n",
       "      <td>Wami / Ruvu</td>\n",
       "      <td>Mabwepande</td>\n",
       "      <td>Dar es Salaam</td>\n",
       "      <td>7</td>\n",
       "      <td>1</td>\n",
       "      <td>Kinondoni</td>\n",
       "      <td>...</td>\n",
       "      <td>commercial</td>\n",
       "      <td>never pay</td>\n",
       "      <td>soft</td>\n",
       "      <td>good</td>\n",
       "      <td>enough</td>\n",
       "      <td>machine dbh</td>\n",
       "      <td>borehole</td>\n",
       "      <td>groundwater</td>\n",
       "      <td>communal standpipe</td>\n",
       "      <td>non functional</td>\n",
       "    </tr>\n",
       "    <tr>\n",
       "      <th>30131</th>\n",
       "      <td>2011-02-18</td>\n",
       "      <td>Arab Community</td>\n",
       "      <td>Arab community</td>\n",
       "      <td>Zunguni</td>\n",
       "      <td>Wami / Ruvu</td>\n",
       "      <td>Zunguni</td>\n",
       "      <td>Pwani</td>\n",
       "      <td>60</td>\n",
       "      <td>33</td>\n",
       "      <td>Kisarawe</td>\n",
       "      <td>...</td>\n",
       "      <td>user-group</td>\n",
       "      <td>never pay</td>\n",
       "      <td>soft</td>\n",
       "      <td>good</td>\n",
       "      <td>enough</td>\n",
       "      <td>shallow well</td>\n",
       "      <td>shallow well</td>\n",
       "      <td>groundwater</td>\n",
       "      <td>hand pump</td>\n",
       "      <td>non functional</td>\n",
       "    </tr>\n",
       "    <tr>\n",
       "      <th>26428</th>\n",
       "      <td>2013-01-16</td>\n",
       "      <td>Wateraid</td>\n",
       "      <td>SEMA</td>\n",
       "      <td>Kibuli</td>\n",
       "      <td>Lake Tanganyika</td>\n",
       "      <td>Kibuli</td>\n",
       "      <td>Tabora</td>\n",
       "      <td>14</td>\n",
       "      <td>1</td>\n",
       "      <td>Nzega</td>\n",
       "      <td>...</td>\n",
       "      <td>user-group</td>\n",
       "      <td>on failure</td>\n",
       "      <td>soft</td>\n",
       "      <td>good</td>\n",
       "      <td>enough</td>\n",
       "      <td>machine dbh</td>\n",
       "      <td>borehole</td>\n",
       "      <td>groundwater</td>\n",
       "      <td>hand pump</td>\n",
       "      <td>functional</td>\n",
       "    </tr>\n",
       "    <tr>\n",
       "      <th>56870</th>\n",
       "      <td>2012-10-13</td>\n",
       "      <td>Dwe</td>\n",
       "      <td>DWE</td>\n",
       "      <td>Shuleni</td>\n",
       "      <td>Lake Tanganyika</td>\n",
       "      <td>Misheni Kati</td>\n",
       "      <td>Tabora</td>\n",
       "      <td>14</td>\n",
       "      <td>4</td>\n",
       "      <td>Urambo</td>\n",
       "      <td>...</td>\n",
       "      <td>user-group</td>\n",
       "      <td>never pay</td>\n",
       "      <td>soft</td>\n",
       "      <td>good</td>\n",
       "      <td>enough</td>\n",
       "      <td>dam</td>\n",
       "      <td>other</td>\n",
       "      <td>surface</td>\n",
       "      <td>communal standpipe</td>\n",
       "      <td>functional</td>\n",
       "    </tr>\n",
       "  </tbody>\n",
       "</table>\n",
       "<p>5 rows × 29 columns</p>\n",
       "</div>"
      ],
      "text/plain": [
       "      date_recorded          funder       installer    wpt_name  \\\n",
       "id                                                                \n",
       "2112     2011-03-14           Amref           AMREF  Kwa Manyei   \n",
       "49195    2013-03-21               0               0       Mlele   \n",
       "30131    2011-02-18  Arab Community  Arab community     Zunguni   \n",
       "26428    2013-01-16        Wateraid            SEMA      Kibuli   \n",
       "56870    2012-10-13             Dwe             DWE     Shuleni   \n",
       "\n",
       "                 basin    subvillage         region  region_code  \\\n",
       "id                                                                 \n",
       "2112            Rufiji       Mahingi          Pwani            6   \n",
       "49195      Wami / Ruvu    Mabwepande  Dar es Salaam            7   \n",
       "30131      Wami / Ruvu       Zunguni          Pwani           60   \n",
       "26428  Lake Tanganyika        Kibuli         Tabora           14   \n",
       "56870  Lake Tanganyika  Misheni Kati         Tabora           14   \n",
       "\n",
       "       district_code        lga  ... management_group  payment_type  \\\n",
       "id                               ...                                  \n",
       "2112               2   Mkuranga  ...       user-group     never pay   \n",
       "49195              1  Kinondoni  ...       commercial     never pay   \n",
       "30131             33   Kisarawe  ...       user-group     never pay   \n",
       "26428              1      Nzega  ...       user-group    on failure   \n",
       "56870              4     Urambo  ...       user-group     never pay   \n",
       "\n",
       "      water_quality  quality_group  quantity        source   source_type  \\\n",
       "id                                                                         \n",
       "2112           soft           good    enough  shallow well  shallow well   \n",
       "49195          soft           good    enough   machine dbh      borehole   \n",
       "30131          soft           good    enough  shallow well  shallow well   \n",
       "26428          soft           good    enough   machine dbh      borehole   \n",
       "56870          soft           good    enough           dam         other   \n",
       "\n",
       "      source_class     waterpoint_type     pump_status  \n",
       "id                                                      \n",
       "2112   groundwater           hand pump  non functional  \n",
       "49195  groundwater  communal standpipe  non functional  \n",
       "30131  groundwater           hand pump  non functional  \n",
       "26428  groundwater           hand pump      functional  \n",
       "56870      surface  communal standpipe      functional  \n",
       "\n",
       "[5 rows x 29 columns]"
      ]
     },
     "execution_count": 54,
     "metadata": {},
     "output_type": "execute_result"
    }
   ],
   "source": [
    "X_train.head()"
   ]
  },
  {
   "cell_type": "code",
   "execution_count": 55,
   "id": "weird-vancouver",
   "metadata": {
    "execution": {
     "iopub.execute_input": "2021-06-22T02:58:07.028761Z",
     "iopub.status.busy": "2021-06-22T02:58:07.027730Z",
     "iopub.status.idle": "2021-06-22T02:58:07.264522Z",
     "shell.execute_reply": "2021-06-22T02:58:07.263946Z",
     "shell.execute_reply.started": "2021-06-22T02:43:56.853153Z"
    },
    "papermill": {
     "duration": 0.357279,
     "end_time": "2021-06-22T02:58:07.264664",
     "exception": false,
     "start_time": "2021-06-22T02:58:06.907385",
     "status": "completed"
    },
    "tags": []
   },
   "outputs": [
    {
     "name": "stderr",
     "output_type": "stream",
     "text": [
      "/opt/conda/lib/python3.7/site-packages/pandas/core/series.py:4515: SettingWithCopyWarning: \n",
      "A value is trying to be set on a copy of a slice from a DataFrame\n",
      "\n",
      "See the caveats in the documentation: https://pandas.pydata.org/pandas-docs/stable/user_guide/indexing.html#returning-a-view-versus-a-copy\n",
      "  method=method,\n"
     ]
    },
    {
     "data": {
      "text/plain": [
       "array(['Decade 3', 'Decade 2', 'Decade 1', 'Decade 0'], dtype=object)"
      ]
     },
     "execution_count": 55,
     "metadata": {},
     "output_type": "execute_result"
    }
   ],
   "source": [
    "for df in data:\n",
    "    df['construction_year'].replace(to_replace=[0],value=['Decade 0'],inplace=True)\n",
    "    df['construction_year'].replace(to_replace=[1960,1961,1962,1963,1964,1965,1966,1967,1968,1969,1970,1971,1972,1973,1974,1975,1976,1977,1978,1979,1980,1981,1982,1983],value=['Decade 1','Decade 1','Decade 1','Decade 1','Decade 1','Decade 1','Decade 1','Decade 1','Decade 1','Decade 1','Decade 1','Decade 1','Decade 1','Decade 1','Decade 1','Decade 1','Decade 1','Decade 1','Decade 1','Decade 1','Decade 1','Decade 1','Decade 1','Decade 1'],inplace=True)\n",
    "    df['construction_year'].replace(to_replace=[1984,1985,1986,1987,1988,1989,1990,1991,1992,1993,1994,1995,1996,1997,1998,1999],value=['Decade 2','Decade 2','Decade 2','Decade 2','Decade 2','Decade 2','Decade 2','Decade 2','Decade 2','Decade 2','Decade 2','Decade 2','Decade 2','Decade 2','Decade 2','Decade 2'],inplace=True)\n",
    "    df['construction_year'].replace(to_replace=[2000,2001,2002,2003,2004,2005,2006,2007,2008,2009,2010,2011,2012,2013],value=['Decade 3','Decade 3','Decade 3','Decade 3','Decade 3','Decade 3','Decade 3','Decade 3','Decade 3','Decade 3','Decade 3','Decade 3','Decade 3','Decade 3'],inplace=True)\n",
    "df['construction_year'].unique()    "
   ]
  },
  {
   "cell_type": "markdown",
   "id": "neither-employment",
   "metadata": {
    "papermill": {
     "duration": 0.097217,
     "end_time": "2021-06-22T02:58:07.464940",
     "exception": false,
     "start_time": "2021-06-22T02:58:07.367723",
     "status": "completed"
    },
    "tags": []
   },
   "source": [
    "I grouped the years in \"construction_year\" column into 4 different decades of atleast 15 years each. Following are the results"
   ]
  },
  {
   "cell_type": "code",
   "execution_count": 56,
   "id": "white-scroll",
   "metadata": {
    "execution": {
     "iopub.execute_input": "2021-06-22T02:58:07.677480Z",
     "iopub.status.busy": "2021-06-22T02:58:07.676817Z",
     "iopub.status.idle": "2021-06-22T02:58:07.972340Z",
     "shell.execute_reply": "2021-06-22T02:58:07.971814Z",
     "shell.execute_reply.started": "2021-06-22T02:43:57.123071Z"
    },
    "papermill": {
     "duration": 0.410143,
     "end_time": "2021-06-22T02:58:07.972480",
     "exception": false,
     "start_time": "2021-06-22T02:58:07.562337",
     "status": "completed"
    },
    "tags": []
   },
   "outputs": [
    {
     "data": {
      "image/png": "[encoded data removed]",
      "text/plain": [
       "<Figure size 432x288 with 1 Axes>"
      ]
     },
     "metadata": {
      "needs_background": "light"
     },
     "output_type": "display_data"
    }
   ],
   "source": [
    "count(X_train,'construction_year','pump_status','pump_status','Variation in pump status based on year')"
   ]
  },
  {
   "cell_type": "code",
   "execution_count": 57,
   "id": "alternative-torture",
   "metadata": {
    "execution": {
     "iopub.execute_input": "2021-06-22T02:58:08.185942Z",
     "iopub.status.busy": "2021-06-22T02:58:08.185215Z",
     "iopub.status.idle": "2021-06-22T02:58:08.259831Z",
     "shell.execute_reply": "2021-06-22T02:58:08.259041Z",
     "shell.execute_reply.started": "2021-06-22T02:43:57.436088Z"
    },
    "papermill": {
     "duration": 0.184927,
     "end_time": "2021-06-22T02:58:08.260023",
     "exception": false,
     "start_time": "2021-06-22T02:58:08.075096",
     "status": "completed"
    },
    "tags": []
   },
   "outputs": [
    {
     "name": "stderr",
     "output_type": "stream",
     "text": [
      "/opt/conda/lib/python3.7/site-packages/ipykernel_launcher.py:2: SettingWithCopyWarning: \n",
      "A value is trying to be set on a copy of a slice from a DataFrame.\n",
      "Try using .loc[row_indexer,col_indexer] = value instead\n",
      "\n",
      "See the caveats in the documentation: https://pandas.pydata.org/pandas-docs/stable/user_guide/indexing.html#returning-a-view-versus-a-copy\n",
      "  \n",
      "/opt/conda/lib/python3.7/site-packages/ipykernel_launcher.py:3: SettingWithCopyWarning: \n",
      "A value is trying to be set on a copy of a slice from a DataFrame.\n",
      "Try using .loc[row_indexer,col_indexer] = value instead\n",
      "\n",
      "See the caveats in the documentation: https://pandas.pydata.org/pandas-docs/stable/user_guide/indexing.html#returning-a-view-versus-a-copy\n",
      "  This is separate from the ipykernel package so we can avoid doing imports until\n",
      "/opt/conda/lib/python3.7/site-packages/ipykernel_launcher.py:4: SettingWithCopyWarning: \n",
      "A value is trying to be set on a copy of a slice from a DataFrame.\n",
      "Try using .loc[row_indexer,col_indexer] = value instead\n",
      "\n",
      "See the caveats in the documentation: https://pandas.pydata.org/pandas-docs/stable/user_guide/indexing.html#returning-a-view-versus-a-copy\n",
      "  after removing the cwd from sys.path.\n"
     ]
    }
   ],
   "source": [
    "for df in data:\n",
    "    df['date_recorded']=pd.to_datetime(df['date_recorded'])\n",
    "    df['month']=df['date_recorded'].dt.month\n",
    "    df['day']=df['date_recorded'].dt.day\n",
    "    "
   ]
  },
  {
   "cell_type": "code",
   "execution_count": 58,
   "id": "integral-lottery",
   "metadata": {
    "execution": {
     "iopub.execute_input": "2021-06-22T02:58:08.493250Z",
     "iopub.status.busy": "2021-06-22T02:58:08.472560Z",
     "iopub.status.idle": "2021-06-22T02:58:08.843365Z",
     "shell.execute_reply": "2021-06-22T02:58:08.842671Z",
     "shell.execute_reply.started": "2021-06-22T02:43:57.510388Z"
    },
    "papermill": {
     "duration": 0.478086,
     "end_time": "2021-06-22T02:58:08.843517",
     "exception": false,
     "start_time": "2021-06-22T02:58:08.365431",
     "status": "completed"
    },
    "tags": []
   },
   "outputs": [
    {
     "data": {
      "image/png": "[encoded data removed]",
      "text/plain": [
       "<Figure size 432x288 with 1 Axes>"
      ]
     },
     "metadata": {
      "needs_background": "light"
     },
     "output_type": "display_data"
    }
   ],
   "source": [
    "count(X_train,'month','pump_status','pump_status','Variation in pump status by month of recording the installation')"
   ]
  },
  {
   "cell_type": "code",
   "execution_count": 59,
   "id": "banner-palace",
   "metadata": {
    "execution": {
     "iopub.execute_input": "2021-06-22T02:58:09.085293Z",
     "iopub.status.busy": "2021-06-22T02:58:09.084625Z",
     "iopub.status.idle": "2021-06-22T02:58:09.176104Z",
     "shell.execute_reply": "2021-06-22T02:58:09.175389Z",
     "shell.execute_reply.started": "2021-06-22T02:43:58.037140Z"
    },
    "papermill": {
     "duration": 0.205506,
     "end_time": "2021-06-22T02:58:09.176247",
     "exception": false,
     "start_time": "2021-06-22T02:58:08.970741",
     "status": "completed"
    },
    "tags": []
   },
   "outputs": [
    {
     "name": "stderr",
     "output_type": "stream",
     "text": [
      "/opt/conda/lib/python3.7/site-packages/pandas/core/frame.py:4315: SettingWithCopyWarning: \n",
      "A value is trying to be set on a copy of a slice from a DataFrame\n",
      "\n",
      "See the caveats in the documentation: https://pandas.pydata.org/pandas-docs/stable/user_guide/indexing.html#returning-a-view-versus-a-copy\n",
      "  errors=errors,\n"
     ]
    }
   ],
   "source": [
    "for df in data:\n",
    "    df.drop(['day','date_recorded'],axis=1,inplace=True)"
   ]
  },
  {
   "cell_type": "code",
   "execution_count": 60,
   "id": "federal-fundamental",
   "metadata": {
    "execution": {
     "iopub.execute_input": "2021-06-22T02:58:09.384824Z",
     "iopub.status.busy": "2021-06-22T02:58:09.384040Z",
     "iopub.status.idle": "2021-06-22T02:58:09.388658Z",
     "shell.execute_reply": "2021-06-22T02:58:09.389206Z",
     "shell.execute_reply.started": "2021-06-22T02:43:58.106628Z"
    },
    "papermill": {
     "duration": 0.113235,
     "end_time": "2021-06-22T02:58:09.389388",
     "exception": false,
     "start_time": "2021-06-22T02:58:09.276153",
     "status": "completed"
    },
    "tags": []
   },
   "outputs": [
    {
     "data": {
      "text/plain": [
       "Index(['funder', 'installer', 'wpt_name', 'basin', 'subvillage', 'region',\n",
       "       'region_code', 'district_code', 'lga', 'ward', 'public_meeting',\n",
       "       'scheme_management', 'permit', 'construction_year', 'extraction_type',\n",
       "       'extraction_type_group', 'extraction_type_class', 'management',\n",
       "       'management_group', 'payment_type', 'water_quality', 'quality_group',\n",
       "       'quantity', 'source', 'source_type', 'source_class', 'waterpoint_type',\n",
       "       'pump_status', 'month'],\n",
       "      dtype='object')"
      ]
     },
     "execution_count": 60,
     "metadata": {},
     "output_type": "execute_result"
    }
   ],
   "source": [
    "X_train.columns"
   ]
  },
  {
   "cell_type": "code",
   "execution_count": 61,
   "id": "dental-context",
   "metadata": {
    "execution": {
     "iopub.execute_input": "2021-06-22T02:58:09.602931Z",
     "iopub.status.busy": "2021-06-22T02:58:09.601340Z",
     "iopub.status.idle": "2021-06-22T02:58:09.631039Z",
     "shell.execute_reply": "2021-06-22T02:58:09.630442Z",
     "shell.execute_reply.started": "2021-06-22T02:43:58.113340Z"
    },
    "papermill": {
     "duration": 0.139079,
     "end_time": "2021-06-22T02:58:09.631209",
     "exception": false,
     "start_time": "2021-06-22T02:58:09.492130",
     "status": "completed"
    },
    "tags": []
   },
   "outputs": [],
   "source": [
    "for df in data:\n",
    "    df.drop(['region'],axis=1,inplace=True)"
   ]
  },
  {
   "cell_type": "code",
   "execution_count": 62,
   "id": "legislative-silver",
   "metadata": {
    "execution": {
     "iopub.execute_input": "2021-06-22T02:58:09.847047Z",
     "iopub.status.busy": "2021-06-22T02:58:09.845767Z",
     "iopub.status.idle": "2021-06-22T02:58:09.851549Z",
     "shell.execute_reply": "2021-06-22T02:58:09.852008Z",
     "shell.execute_reply.started": "2021-06-22T02:43:58.144788Z"
    },
    "papermill": {
     "duration": 0.116989,
     "end_time": "2021-06-22T02:58:09.852218",
     "exception": false,
     "start_time": "2021-06-22T02:58:09.735229",
     "status": "completed"
    },
    "tags": []
   },
   "outputs": [
    {
     "data": {
      "text/plain": [
       "array([ 6,  7, 60, 14, 19, 11, 17, 16,  5, 10, 15,  3,  1, 12, 13, 80, 21,\n",
       "        2, 20, 18,  4, 90,  9,  8, 99, 24, 40])"
      ]
     },
     "execution_count": 62,
     "metadata": {},
     "output_type": "execute_result"
    }
   ],
   "source": [
    "X_train['region_code'].unique()"
   ]
  },
  {
   "cell_type": "markdown",
   "id": "integral-photograph",
   "metadata": {
    "papermill": {
     "duration": 0.104612,
     "end_time": "2021-06-22T02:58:10.059554",
     "exception": false,
     "start_time": "2021-06-22T02:58:09.954942",
     "status": "completed"
    },
    "tags": []
   },
   "source": [
    "**APPLYING CLASSIFICATION ALGORITHMS**"
   ]
  },
  {
   "cell_type": "code",
   "execution_count": 63,
   "id": "spanish-calgary",
   "metadata": {
    "execution": {
     "iopub.execute_input": "2021-06-22T02:58:10.269667Z",
     "iopub.status.busy": "2021-06-22T02:58:10.268592Z",
     "iopub.status.idle": "2021-06-22T02:58:10.290955Z",
     "shell.execute_reply": "2021-06-22T02:58:10.290336Z",
     "shell.execute_reply.started": "2021-06-22T02:43:58.153408Z"
    },
    "papermill": {
     "duration": 0.128221,
     "end_time": "2021-06-22T02:58:10.291153",
     "exception": false,
     "start_time": "2021-06-22T02:58:10.162932",
     "status": "completed"
    },
    "tags": []
   },
   "outputs": [],
   "source": [
    "X_train.drop(['pump_status'],axis=1,inplace=True)\n"
   ]
  },
  {
   "cell_type": "code",
   "execution_count": 64,
   "id": "stuffed-meeting",
   "metadata": {
    "execution": {
     "iopub.execute_input": "2021-06-22T02:58:10.507616Z",
     "iopub.status.busy": "2021-06-22T02:58:10.506858Z",
     "iopub.status.idle": "2021-06-22T02:58:10.509601Z",
     "shell.execute_reply": "2021-06-22T02:58:10.510217Z",
     "shell.execute_reply.started": "2021-06-22T02:43:58.174906Z"
    },
    "papermill": {
     "duration": 0.11407,
     "end_time": "2021-06-22T02:58:10.510430",
     "exception": false,
     "start_time": "2021-06-22T02:58:10.396360",
     "status": "completed"
    },
    "tags": []
   },
   "outputs": [
    {
     "data": {
      "text/plain": [
       "Index(['funder', 'installer', 'wpt_name', 'basin', 'subvillage', 'region_code',\n",
       "       'district_code', 'lga', 'ward', 'public_meeting', 'scheme_management',\n",
       "       'permit', 'construction_year', 'extraction_type',\n",
       "       'extraction_type_group', 'extraction_type_class', 'management',\n",
       "       'management_group', 'payment_type', 'water_quality', 'quality_group',\n",
       "       'quantity', 'source', 'source_type', 'source_class', 'waterpoint_type',\n",
       "       'month'],\n",
       "      dtype='object')"
      ]
     },
     "execution_count": 64,
     "metadata": {},
     "output_type": "execute_result"
    }
   ],
   "source": [
    "X_holdout.columns"
   ]
  },
  {
   "cell_type": "code",
   "execution_count": 65,
   "id": "behind-sunrise",
   "metadata": {
    "execution": {
     "iopub.execute_input": "2021-06-22T02:58:10.725852Z",
     "iopub.status.busy": "2021-06-22T02:58:10.724454Z",
     "iopub.status.idle": "2021-06-22T02:58:11.899675Z",
     "shell.execute_reply": "2021-06-22T02:58:11.900259Z",
     "shell.execute_reply.started": "2021-06-22T02:43:58.183700Z"
    },
    "papermill": {
     "duration": 1.285373,
     "end_time": "2021-06-22T02:58:11.900488",
     "exception": false,
     "start_time": "2021-06-22T02:58:10.615115",
     "status": "completed"
    },
    "tags": []
   },
   "outputs": [
    {
     "name": "stderr",
     "output_type": "stream",
     "text": [
      "/opt/conda/lib/python3.7/site-packages/ipykernel_launcher.py:12: SettingWithCopyWarning: \n",
      "A value is trying to be set on a copy of a slice from a DataFrame.\n",
      "Try using .loc[row_indexer,col_indexer] = value instead\n",
      "\n",
      "See the caveats in the documentation: https://pandas.pydata.org/pandas-docs/stable/user_guide/indexing.html#returning-a-view-versus-a-copy\n",
      "  if sys.path[0] == '':\n"
     ]
    }
   ],
   "source": [
    "from sklearn.preprocessing import LabelEncoder\n",
    "label=LabelEncoder()\n",
    "cat_list=['funder', 'installer', 'wpt_name', 'basin', 'subvillage',\n",
    "       'region_code', 'district_code', 'lga', 'ward', 'public_meeting',\n",
    "       'scheme_management', 'permit', 'construction_year', 'extraction_type',\n",
    "       'extraction_type_group', 'extraction_type_class', 'management',\n",
    "       'management_group', 'payment_type', 'water_quality', 'quality_group',\n",
    "       'quantity', 'source', 'source_type', 'source_class', 'waterpoint_type',\n",
    "        'month']\n",
    "for df in data:\n",
    "    for col in cat_list:\n",
    "        df[col]=label.fit_transform(df[col])"
   ]
  },
  {
   "cell_type": "code",
   "execution_count": 66,
   "id": "wired-poison",
   "metadata": {
    "execution": {
     "iopub.execute_input": "2021-06-22T02:58:12.109736Z",
     "iopub.status.busy": "2021-06-22T02:58:12.109094Z",
     "iopub.status.idle": "2021-06-22T02:58:12.115343Z",
     "shell.execute_reply": "2021-06-22T02:58:12.114781Z",
     "shell.execute_reply.started": "2021-06-22T02:43:59.216248Z"
    },
    "papermill": {
     "duration": 0.111094,
     "end_time": "2021-06-22T02:58:12.115499",
     "exception": false,
     "start_time": "2021-06-22T02:58:12.004405",
     "status": "completed"
    },
    "tags": []
   },
   "outputs": [
    {
     "data": {
      "text/plain": [
       "Index(['amount_tsh', 'funder', 'gps_height', 'installer', 'longitude',\n",
       "       'latitude', 'wpt_name', 'num_private', 'basin', 'subvillage',\n",
       "       'region_code', 'district_code', 'lga', 'ward', 'population',\n",
       "       'public_meeting', 'recorded_by', 'scheme_management', 'scheme_name',\n",
       "       'permit', 'construction_year', 'extraction_type',\n",
       "       'extraction_type_group', 'extraction_type_class', 'management',\n",
       "       'management_group', 'payment', 'payment_type', 'water_quality',\n",
       "       'quality_group', 'quantity', 'quantity_group', 'source', 'source_type',\n",
       "       'source_class', 'waterpoint_type', 'month'],\n",
       "      dtype='object')"
      ]
     },
     "execution_count": 66,
     "metadata": {},
     "output_type": "execute_result"
    }
   ],
   "source": [
    "final_test_val.columns"
   ]
  },
  {
   "cell_type": "code",
   "execution_count": 67,
   "id": "sealed-threshold",
   "metadata": {
    "execution": {
     "iopub.execute_input": "2021-06-22T02:58:12.325164Z",
     "iopub.status.busy": "2021-06-22T02:58:12.324511Z",
     "iopub.status.idle": "2021-06-22T02:58:12.333083Z",
     "shell.execute_reply": "2021-06-22T02:58:12.333552Z",
     "shell.execute_reply.started": "2021-06-22T02:43:59.224869Z"
    },
    "papermill": {
     "duration": 0.11495,
     "end_time": "2021-06-22T02:58:12.333781",
     "exception": false,
     "start_time": "2021-06-22T02:58:12.218831",
     "status": "completed"
    },
    "tags": []
   },
   "outputs": [],
   "source": [
    "final_test_val.drop(['amount_tsh','gps_height','longitude','latitude','num_private','population','recorded_by','payment','quantity_group','scheme_name'],axis=1,inplace=True)"
   ]
  },
  {
   "cell_type": "code",
   "execution_count": 68,
   "id": "classical-settle",
   "metadata": {
    "execution": {
     "iopub.execute_input": "2021-06-22T02:58:12.545800Z",
     "iopub.status.busy": "2021-06-22T02:58:12.545146Z",
     "iopub.status.idle": "2021-06-22T02:58:12.549931Z",
     "shell.execute_reply": "2021-06-22T02:58:12.550417Z",
     "shell.execute_reply.started": "2021-06-22T02:43:59.237748Z"
    },
    "papermill": {
     "duration": 0.111331,
     "end_time": "2021-06-22T02:58:12.550621",
     "exception": false,
     "start_time": "2021-06-22T02:58:12.439290",
     "status": "completed"
    },
    "tags": []
   },
   "outputs": [
    {
     "data": {
      "text/plain": [
       "True"
      ]
     },
     "execution_count": 68,
     "metadata": {},
     "output_type": "execute_result"
    }
   ],
   "source": [
    "len(X_holdout.columns)==len(final_test_val.columns)"
   ]
  },
  {
   "cell_type": "code",
   "execution_count": 69,
   "id": "utility-abuse",
   "metadata": {
    "execution": {
     "iopub.execute_input": "2021-06-22T02:58:12.757487Z",
     "iopub.status.busy": "2021-06-22T02:58:12.756838Z",
     "iopub.status.idle": "2021-06-22T02:58:12.761997Z",
     "shell.execute_reply": "2021-06-22T02:58:12.762524Z",
     "shell.execute_reply.started": "2021-06-22T02:43:59.252634Z"
    },
    "papermill": {
     "duration": 0.110495,
     "end_time": "2021-06-22T02:58:12.762693",
     "exception": false,
     "start_time": "2021-06-22T02:58:12.652198",
     "status": "completed"
    },
    "tags": []
   },
   "outputs": [
    {
     "data": {
      "text/plain": [
       "Index(['funder', 'installer', 'wpt_name', 'basin', 'subvillage', 'region_code',\n",
       "       'district_code', 'lga', 'ward', 'public_meeting', 'scheme_management',\n",
       "       'permit', 'construction_year', 'extraction_type',\n",
       "       'extraction_type_group', 'extraction_type_class', 'management',\n",
       "       'management_group', 'payment_type', 'water_quality', 'quality_group',\n",
       "       'quantity', 'source', 'source_type', 'source_class', 'waterpoint_type',\n",
       "       'month'],\n",
       "      dtype='object')"
      ]
     },
     "execution_count": 69,
     "metadata": {},
     "output_type": "execute_result"
    }
   ],
   "source": [
    "X_train.columns"
   ]
  },
  {
   "cell_type": "code",
   "execution_count": 70,
   "id": "collective-legislature",
   "metadata": {
    "execution": {
     "iopub.execute_input": "2021-06-22T02:58:12.971686Z",
     "iopub.status.busy": "2021-06-22T02:58:12.971027Z",
     "iopub.status.idle": "2021-06-22T02:58:12.982797Z",
     "shell.execute_reply": "2021-06-22T02:58:12.982291Z",
     "shell.execute_reply.started": "2021-06-22T02:43:59.260002Z"
    },
    "papermill": {
     "duration": 0.118311,
     "end_time": "2021-06-22T02:58:12.982943",
     "exception": false,
     "start_time": "2021-06-22T02:58:12.864632",
     "status": "completed"
    },
    "tags": []
   },
   "outputs": [],
   "source": [
    "X_train_1=X_train.copy()\n",
    "X_holdout_1=X_holdout.copy()\n",
    "data1=[X_train_1,X_holdout_1]"
   ]
  },
  {
   "cell_type": "code",
   "execution_count": 71,
   "id": "genetic-receptor",
   "metadata": {
    "execution": {
     "iopub.execute_input": "2021-06-22T02:58:13.192552Z",
     "iopub.status.busy": "2021-06-22T02:58:13.191873Z",
     "iopub.status.idle": "2021-06-22T02:58:13.201200Z",
     "shell.execute_reply": "2021-06-22T02:58:13.200492Z",
     "shell.execute_reply.started": "2021-06-22T02:43:59.275234Z"
    },
    "papermill": {
     "duration": 0.115843,
     "end_time": "2021-06-22T02:58:13.201340",
     "exception": false,
     "start_time": "2021-06-22T02:58:13.085497",
     "status": "completed"
    },
    "tags": []
   },
   "outputs": [],
   "source": [
    "X_train_2=X_train.copy()\n",
    "X_holdout_2=X_holdout.copy()\n",
    "data2=[X_train_2,X_holdout_2,final_test_val]"
   ]
  },
  {
   "cell_type": "code",
   "execution_count": 72,
   "id": "mineral-concord",
   "metadata": {
    "execution": {
     "iopub.execute_input": "2021-06-22T02:58:13.411934Z",
     "iopub.status.busy": "2021-06-22T02:58:13.411300Z",
     "iopub.status.idle": "2021-06-22T02:58:13.419336Z",
     "shell.execute_reply": "2021-06-22T02:58:13.418755Z",
     "shell.execute_reply.started": "2021-06-22T02:43:59.290317Z"
    },
    "papermill": {
     "duration": 0.115662,
     "end_time": "2021-06-22T02:58:13.419482",
     "exception": false,
     "start_time": "2021-06-22T02:58:13.303820",
     "status": "completed"
    },
    "tags": []
   },
   "outputs": [
    {
     "data": {
      "text/plain": [
       "2    39350\n",
       "0     2726\n",
       "1     2474\n",
       "Name: management_group, dtype: int64"
      ]
     },
     "execution_count": 72,
     "metadata": {},
     "output_type": "execute_result"
    }
   ],
   "source": [
    "X_train_1['management_group'].value_counts()  "
   ]
  },
  {
   "cell_type": "code",
   "execution_count": 73,
   "id": "romantic-interface",
   "metadata": {
    "execution": {
     "iopub.execute_input": "2021-06-22T02:58:13.629357Z",
     "iopub.status.busy": "2021-06-22T02:58:13.628407Z",
     "iopub.status.idle": "2021-06-22T02:58:13.634287Z",
     "shell.execute_reply": "2021-06-22T02:58:13.634728Z",
     "shell.execute_reply.started": "2021-06-22T02:43:59.298925Z"
    },
    "papermill": {
     "duration": 0.112654,
     "end_time": "2021-06-22T02:58:13.634899",
     "exception": false,
     "start_time": "2021-06-22T02:58:13.522245",
     "status": "completed"
    },
    "tags": []
   },
   "outputs": [
    {
     "data": {
      "text/plain": [
       "Index(['funder', 'installer', 'wpt_name', 'basin', 'subvillage', 'region_code',\n",
       "       'district_code', 'lga', 'ward', 'public_meeting', 'scheme_management',\n",
       "       'permit', 'construction_year', 'extraction_type',\n",
       "       'extraction_type_group', 'extraction_type_class', 'management',\n",
       "       'management_group', 'payment_type', 'water_quality', 'quality_group',\n",
       "       'quantity', 'source', 'source_type', 'source_class', 'waterpoint_type',\n",
       "       'month'],\n",
       "      dtype='object')"
      ]
     },
     "execution_count": 73,
     "metadata": {},
     "output_type": "execute_result"
    }
   ],
   "source": [
    "final_test_val.columns"
   ]
  },
  {
   "cell_type": "code",
   "execution_count": 74,
   "id": "dimensional-royal",
   "metadata": {
    "execution": {
     "iopub.execute_input": "2021-06-22T02:58:13.843113Z",
     "iopub.status.busy": "2021-06-22T02:58:13.842206Z",
     "iopub.status.idle": "2021-06-22T02:58:13.848204Z",
     "shell.execute_reply": "2021-06-22T02:58:13.848652Z",
     "shell.execute_reply.started": "2021-06-22T02:43:59.307983Z"
    },
    "papermill": {
     "duration": 0.111606,
     "end_time": "2021-06-22T02:58:13.848816",
     "exception": false,
     "start_time": "2021-06-22T02:58:13.737210",
     "status": "completed"
    },
    "tags": []
   },
   "outputs": [
    {
     "data": {
      "text/plain": [
       "array([2, 3, 0, 1, 5, 6, 4])"
      ]
     },
     "execution_count": 74,
     "metadata": {},
     "output_type": "execute_result"
    }
   ],
   "source": [
    "X_train['payment_type'].unique()"
   ]
  },
  {
   "cell_type": "markdown",
   "id": "southwest-capitol",
   "metadata": {
    "papermill": {
     "duration": 0.103452,
     "end_time": "2021-06-22T02:58:14.055071",
     "exception": false,
     "start_time": "2021-06-22T02:58:13.951619",
     "status": "completed"
    },
    "tags": []
   },
   "source": [
    "1) DECISION TREE CLASSIFIER"
   ]
  },
  {
   "cell_type": "code",
   "execution_count": 75,
   "id": "improving-butterfly",
   "metadata": {
    "execution": {
     "iopub.execute_input": "2021-06-22T02:58:14.267143Z",
     "iopub.status.busy": "2021-06-22T02:58:14.266170Z",
     "iopub.status.idle": "2021-06-22T02:58:14.968774Z",
     "shell.execute_reply": "2021-06-22T02:58:14.969298Z",
     "shell.execute_reply.started": "2021-06-22T02:43:59.319112Z"
    },
    "papermill": {
     "duration": 0.809444,
     "end_time": "2021-06-22T02:58:14.969494",
     "exception": false,
     "start_time": "2021-06-22T02:58:14.160050",
     "status": "completed"
    },
    "tags": []
   },
   "outputs": [
    {
     "name": "stdout",
     "output_type": "stream",
     "text": [
      "Accuracy of the classifier is: 0.730976430976431\n"
     ]
    }
   ],
   "source": [
    "from sklearn.metrics import accuracy_score\n",
    "from sklearn.tree import DecisionTreeClassifier\n",
    "dec_tree = DecisionTreeClassifier(criterion=\"entropy\",max_depth=11,random_state=17,max_features=23)\n",
    "dec_tree.fit(X_train_1,y_train)\n",
    "result=dec_tree.predict(X_holdout_1)\n",
    "print(f\"Accuracy of the classifier is: {accuracy_score(y_holdout,result)}\")\n",
    "\n",
    "#final_result=dec_tree.predict(final_test_val)"
   ]
  },
  {
   "cell_type": "code",
   "execution_count": 76,
   "id": "marine-albany",
   "metadata": {
    "execution": {
     "iopub.execute_input": "2021-06-22T02:58:15.185268Z",
     "iopub.status.busy": "2021-06-22T02:58:15.184248Z",
     "iopub.status.idle": "2021-06-22T02:58:15.187871Z",
     "shell.execute_reply": "2021-06-22T02:58:15.187264Z",
     "shell.execute_reply.started": "2021-06-22T02:44:00.042116Z"
    },
    "papermill": {
     "duration": 0.114298,
     "end_time": "2021-06-22T02:58:15.188049",
     "exception": false,
     "start_time": "2021-06-22T02:58:15.073751",
     "status": "completed"
    },
    "tags": []
   },
   "outputs": [],
   "source": [
    "#submission=pd.Series(final_result,index=final_test_val.index)"
   ]
  },
  {
   "cell_type": "code",
   "execution_count": 77,
   "id": "incident-turner",
   "metadata": {
    "execution": {
     "iopub.execute_input": "2021-06-22T02:58:15.404161Z",
     "iopub.status.busy": "2021-06-22T02:58:15.403161Z",
     "iopub.status.idle": "2021-06-22T02:58:15.406819Z",
     "shell.execute_reply": "2021-06-22T02:58:15.406314Z",
     "shell.execute_reply.started": "2021-06-22T02:44:00.046176Z"
    },
    "papermill": {
     "duration": 0.114162,
     "end_time": "2021-06-22T02:58:15.406996",
     "exception": false,
     "start_time": "2021-06-22T02:58:15.292834",
     "status": "completed"
    },
    "tags": []
   },
   "outputs": [],
   "source": [
    "#submission.head()"
   ]
  },
  {
   "cell_type": "code",
   "execution_count": 78,
   "id": "cooked-depression",
   "metadata": {
    "execution": {
     "iopub.execute_input": "2021-06-22T02:58:15.620867Z",
     "iopub.status.busy": "2021-06-22T02:58:15.620258Z",
     "iopub.status.idle": "2021-06-22T02:58:15.623670Z",
     "shell.execute_reply": "2021-06-22T02:58:15.622949Z",
     "shell.execute_reply.started": "2021-06-22T02:44:00.057326Z"
    },
    "papermill": {
     "duration": 0.112568,
     "end_time": "2021-06-22T02:58:15.623809",
     "exception": false,
     "start_time": "2021-06-22T02:58:15.511241",
     "status": "completed"
    },
    "tags": []
   },
   "outputs": [],
   "source": [
    "#submission.to_csv('submission_4.csv',index=True)"
   ]
  },
  {
   "cell_type": "markdown",
   "id": "gentle-observation",
   "metadata": {
    "papermill": {
     "duration": 0.103681,
     "end_time": "2021-06-22T02:58:15.831798",
     "exception": false,
     "start_time": "2021-06-22T02:58:15.728117",
     "status": "completed"
    },
    "tags": []
   },
   "source": [
    "2) RANDOM FOREST CLASSIFIER"
   ]
  },
  {
   "cell_type": "code",
   "execution_count": 79,
   "id": "medium-domain",
   "metadata": {
    "execution": {
     "iopub.execute_input": "2021-06-22T02:58:16.048231Z",
     "iopub.status.busy": "2021-06-22T02:58:16.047583Z",
     "iopub.status.idle": "2021-06-22T02:58:25.070454Z",
     "shell.execute_reply": "2021-06-22T02:58:25.069532Z",
     "shell.execute_reply.started": "2021-06-22T02:44:00.069710Z"
    },
    "papermill": {
     "duration": 9.134346,
     "end_time": "2021-06-22T02:58:25.070803",
     "exception": false,
     "start_time": "2021-06-22T02:58:15.936457",
     "status": "completed"
    },
    "tags": []
   },
   "outputs": [
    {
     "name": "stderr",
     "output_type": "stream",
     "text": [
      "/opt/conda/lib/python3.7/site-packages/ipykernel_launcher.py:3: DataConversionWarning: A column-vector y was passed when a 1d array was expected. Please change the shape of y to (n_samples,), for example using ravel().\n",
      "  This is separate from the ipykernel package so we can avoid doing imports until\n"
     ]
    },
    {
     "name": "stdout",
     "output_type": "stream",
     "text": [
      "Accuracy of the classifier is: 0.7828956228956229\n"
     ]
    }
   ],
   "source": [
    "from sklearn.ensemble import RandomForestClassifier\n",
    "random_for=RandomForestClassifier(n_estimators=96,max_features=6,max_depth=21,random_state=15)\n",
    "random_for.fit(X_train,y_train)\n",
    "result_1=random_for.predict(X_holdout)\n",
    "print(f\"Accuracy of the classifier is: {accuracy_score(y_holdout,result_1)}\")"
   ]
  },
  {
   "cell_type": "markdown",
   "id": "lined-asian",
   "metadata": {
    "papermill": {
     "duration": 0.103694,
     "end_time": "2021-06-22T02:58:25.279358",
     "exception": false,
     "start_time": "2021-06-22T02:58:25.175664",
     "status": "completed"
    },
    "tags": []
   },
   "source": [
    "So far, Random Forest has given the best test accuracy, which was 78.38%."
   ]
  },
  {
   "cell_type": "code",
   "execution_count": 80,
   "id": "ancient-medicare",
   "metadata": {
    "execution": {
     "iopub.execute_input": "2021-06-22T02:58:25.491351Z",
     "iopub.status.busy": "2021-06-22T02:58:25.490681Z",
     "iopub.status.idle": "2021-06-22T02:58:25.493264Z",
     "shell.execute_reply": "2021-06-22T02:58:25.493740Z",
     "shell.execute_reply.started": "2021-06-22T02:44:08.891033Z"
    },
    "papermill": {
     "duration": 0.11044,
     "end_time": "2021-06-22T02:58:25.493907",
     "exception": false,
     "start_time": "2021-06-22T02:58:25.383467",
     "status": "completed"
    },
    "tags": []
   },
   "outputs": [],
   "source": [
    "#final_result_6=random_for.predict(final_test_val)\n",
    "#submission_6=pd.Series(final_result_6,index=final_test_val.index)"
   ]
  },
  {
   "cell_type": "code",
   "execution_count": 81,
   "id": "mature-corporation",
   "metadata": {
    "execution": {
     "iopub.execute_input": "2021-06-22T02:58:25.706600Z",
     "iopub.status.busy": "2021-06-22T02:58:25.705900Z",
     "iopub.status.idle": "2021-06-22T02:58:25.709412Z",
     "shell.execute_reply": "2021-06-22T02:58:25.708871Z",
     "shell.execute_reply.started": "2021-06-22T02:44:08.896637Z"
    },
    "papermill": {
     "duration": 0.111681,
     "end_time": "2021-06-22T02:58:25.709560",
     "exception": false,
     "start_time": "2021-06-22T02:58:25.597879",
     "status": "completed"
    },
    "tags": []
   },
   "outputs": [],
   "source": [
    "#submission_6.to_csv('/kaggle/working/submission_6.csv',index=True)"
   ]
  },
  {
   "cell_type": "markdown",
   "id": "selective-worcester",
   "metadata": {
    "papermill": {
     "duration": 0.104858,
     "end_time": "2021-06-22T02:58:25.918737",
     "exception": false,
     "start_time": "2021-06-22T02:58:25.813879",
     "status": "completed"
    },
    "tags": []
   },
   "source": [
    "3) XGBoost Classifier"
   ]
  },
  {
   "cell_type": "code",
   "execution_count": 82,
   "id": "spare-programmer",
   "metadata": {
    "execution": {
     "iopub.execute_input": "2021-06-22T02:58:26.134344Z",
     "iopub.status.busy": "2021-06-22T02:58:26.133674Z",
     "iopub.status.idle": "2021-06-22T02:58:26.136830Z",
     "shell.execute_reply": "2021-06-22T02:58:26.136226Z",
     "shell.execute_reply.started": "2021-06-22T02:44:08.909461Z"
    },
    "papermill": {
     "duration": 0.113875,
     "end_time": "2021-06-22T02:58:26.136963",
     "exception": false,
     "start_time": "2021-06-22T02:58:26.023088",
     "status": "completed"
    },
    "tags": []
   },
   "outputs": [],
   "source": [
    "#from xgboost import XGBClassifier\n",
    "#from sklearn.model_selection import cross_val_score, KFold"
   ]
  },
  {
   "cell_type": "code",
   "execution_count": 83,
   "id": "alike-costa",
   "metadata": {
    "execution": {
     "iopub.execute_input": "2021-06-22T02:58:26.348170Z",
     "iopub.status.busy": "2021-06-22T02:58:26.347500Z",
     "iopub.status.idle": "2021-06-22T02:58:26.350700Z",
     "shell.execute_reply": "2021-06-22T02:58:26.351282Z",
     "shell.execute_reply.started": "2021-06-22T02:44:08.920586Z"
    },
    "papermill": {
     "duration": 0.110099,
     "end_time": "2021-06-22T02:58:26.351454",
     "exception": false,
     "start_time": "2021-06-22T02:58:26.241355",
     "status": "completed"
    },
    "tags": []
   },
   "outputs": [],
   "source": [
    "#xgbc=XGBClassifier(random_state=5,n_estimators=95,max_depth=7)\n",
    "#xgbc.fit(X_train,y_train)\n",
    "#result_3=xgbc.predict(X_holdout)\n",
    "#print(f\"Accuracy of the classifier is: {accuracy_score(y_holdout,result_3)}\"+\" \"+str(i))"
   ]
  },
  {
   "cell_type": "code",
   "execution_count": 84,
   "id": "linear-deviation",
   "metadata": {
    "execution": {
     "iopub.execute_input": "2021-06-22T02:58:26.565165Z",
     "iopub.status.busy": "2021-06-22T02:58:26.564504Z",
     "iopub.status.idle": "2021-06-22T02:58:26.568014Z",
     "shell.execute_reply": "2021-06-22T02:58:26.568524Z",
     "shell.execute_reply.started": "2021-06-22T02:44:08.933989Z"
    },
    "papermill": {
     "duration": 0.111959,
     "end_time": "2021-06-22T02:58:26.568709",
     "exception": false,
     "start_time": "2021-06-22T02:58:26.456750",
     "status": "completed"
    },
    "tags": []
   },
   "outputs": [],
   "source": [
    "#final_result_7=random_for.predict(final_test_val)\n",
    "#submission_7=pd.Series(final_result_7,index=final_test_val.index)"
   ]
  }
 ],
 "metadata": {
  "kernelspec": {
   "display_name": "Python 3",
   "language": "python",
   "name": "python3"
  },
  "language_info": {
   "codemirror_mode": {
    "name": "ipython",
    "version": 3
   },
   "file_extension": ".py",
   "mimetype": "text/x-python",
   "name": "python",
   "nbconvert_exporter": "python",
   "pygments_lexer": "ipython3",
   "version": "3.7.10"
  },
  "papermill": {
   "default_parameters": {},
   "duration": 50.069748,
   "end_time": "2021-06-22T02:58:28.389581",
   "environment_variables": {},
   "exception": null,
   "input_path": "__notebook__.ipynb",
   "output_path": "__notebook__.ipynb",
   "parameters": {},
   "start_time": "2021-06-22T02:57:38.319833",
   "version": "2.3.3"
  }
 },
 "nbformat": 4,
 "nbformat_minor": 5
}
